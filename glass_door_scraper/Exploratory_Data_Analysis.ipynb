{
 "cells": [
  {
   "cell_type": "code",
   "execution_count": 1,
   "metadata": {},
   "outputs": [],
   "source": [
    "import pandas as pd\n",
    "import matplotlib.pyplot as plt\n",
    "import seaborn as sns"
   ]
  },
  {
   "cell_type": "code",
   "execution_count": 2,
   "metadata": {},
   "outputs": [],
   "source": [
    "df = pd.read_csv('salary_data_cleaned.csv')"
   ]
  },
  {
   "cell_type": "code",
   "execution_count": 3,
   "metadata": {
    "scrolled": true
   },
   "outputs": [
    {
     "data": {
      "text/html": [
       "<div>\n",
       "<style scoped>\n",
       "    .dataframe tbody tr th:only-of-type {\n",
       "        vertical-align: middle;\n",
       "    }\n",
       "\n",
       "    .dataframe tbody tr th {\n",
       "        vertical-align: top;\n",
       "    }\n",
       "\n",
       "    .dataframe thead th {\n",
       "        text-align: right;\n",
       "    }\n",
       "</style>\n",
       "<table border=\"1\" class=\"dataframe\">\n",
       "  <thead>\n",
       "    <tr style=\"text-align: right;\">\n",
       "      <th></th>\n",
       "      <th>Company Name</th>\n",
       "      <th>Founded</th>\n",
       "      <th>Industry</th>\n",
       "      <th>Job Description</th>\n",
       "      <th>Job Title</th>\n",
       "      <th>Location</th>\n",
       "      <th>Rating</th>\n",
       "      <th>Revenue</th>\n",
       "      <th>Salary Estimate</th>\n",
       "      <th>Sector</th>\n",
       "      <th>...</th>\n",
       "      <th>company_txt</th>\n",
       "      <th>job_region-state</th>\n",
       "      <th>age</th>\n",
       "      <th>python_yn</th>\n",
       "      <th>r_studio_yn</th>\n",
       "      <th>sql_yn</th>\n",
       "      <th>cloud_yn</th>\n",
       "      <th>excel_yn</th>\n",
       "      <th>bigquery_yn</th>\n",
       "      <th>spark_yn</th>\n",
       "    </tr>\n",
       "  </thead>\n",
       "  <tbody>\n",
       "    <tr>\n",
       "      <th>0</th>\n",
       "      <td>Raytheon Missiles &amp; Defense\\r\\n3.8</td>\n",
       "      <td>2020</td>\n",
       "      <td>Aerospace &amp; Defense</td>\n",
       "      <td>Senior Data Scientist\\r\\nRaytheon Missiles &amp; D...</td>\n",
       "      <td>Senior Data Scientist , Advanced Analytics</td>\n",
       "      <td>Andover, MA</td>\n",
       "      <td>3.8</td>\n",
       "      <td>$10+ billion (USD)</td>\n",
       "      <td>$123K-$199K (Glassdoor est.)</td>\n",
       "      <td>Aerospace &amp; Defense</td>\n",
       "      <td>...</td>\n",
       "      <td>Raytheon Missiles &amp; Defense\\r\\n</td>\n",
       "      <td>MA</td>\n",
       "      <td>0</td>\n",
       "      <td>1</td>\n",
       "      <td>0</td>\n",
       "      <td>0</td>\n",
       "      <td>1</td>\n",
       "      <td>0</td>\n",
       "      <td>0</td>\n",
       "      <td>0</td>\n",
       "    </tr>\n",
       "    <tr>\n",
       "      <th>1</th>\n",
       "      <td>Humana\\r\\n3.9</td>\n",
       "      <td>1961</td>\n",
       "      <td>Insurance Carriers</td>\n",
       "      <td>Description\\r\\nDigital Health and Analytics wi...</td>\n",
       "      <td>Data Scientist 2</td>\n",
       "      <td>Louisville, KY</td>\n",
       "      <td>3.9</td>\n",
       "      <td>$10+ billion (USD)</td>\n",
       "      <td>$52K-$95K (Glassdoor est.)</td>\n",
       "      <td>Insurance</td>\n",
       "      <td>...</td>\n",
       "      <td>Humana\\r\\n</td>\n",
       "      <td>KY</td>\n",
       "      <td>59</td>\n",
       "      <td>1</td>\n",
       "      <td>0</td>\n",
       "      <td>1</td>\n",
       "      <td>0</td>\n",
       "      <td>0</td>\n",
       "      <td>0</td>\n",
       "      <td>1</td>\n",
       "    </tr>\n",
       "    <tr>\n",
       "      <th>2</th>\n",
       "      <td>AstraZeneca\\r\\n4.2</td>\n",
       "      <td>1913</td>\n",
       "      <td>Biotech &amp; Pharmaceuticals</td>\n",
       "      <td>Do you have a passion for Science? Would you l...</td>\n",
       "      <td>Scientist - Antibody Drug Conjugates</td>\n",
       "      <td>Gaithersburg, MD</td>\n",
       "      <td>4.2</td>\n",
       "      <td>$10+ billion (USD)</td>\n",
       "      <td>$61K-$123K (Glassdoor est.)</td>\n",
       "      <td>Biotech &amp; Pharmaceuticals</td>\n",
       "      <td>...</td>\n",
       "      <td>AstraZeneca\\r\\n</td>\n",
       "      <td>MD</td>\n",
       "      <td>107</td>\n",
       "      <td>0</td>\n",
       "      <td>0</td>\n",
       "      <td>0</td>\n",
       "      <td>0</td>\n",
       "      <td>0</td>\n",
       "      <td>0</td>\n",
       "      <td>0</td>\n",
       "    </tr>\n",
       "    <tr>\n",
       "      <th>3</th>\n",
       "      <td>AstraZeneca\\r\\n4.2</td>\n",
       "      <td>1913</td>\n",
       "      <td>Biotech &amp; Pharmaceuticals</td>\n",
       "      <td>Research Scientist/ Senior Research Scientist\\...</td>\n",
       "      <td>Research Scientist/ Senior Research Scientist</td>\n",
       "      <td>Gaithersburg, MD</td>\n",
       "      <td>4.2</td>\n",
       "      <td>$10+ billion (USD)</td>\n",
       "      <td>$88K-$167K (Glassdoor est.)</td>\n",
       "      <td>Biotech &amp; Pharmaceuticals</td>\n",
       "      <td>...</td>\n",
       "      <td>AstraZeneca\\r\\n</td>\n",
       "      <td>MD</td>\n",
       "      <td>107</td>\n",
       "      <td>0</td>\n",
       "      <td>0</td>\n",
       "      <td>0</td>\n",
       "      <td>0</td>\n",
       "      <td>1</td>\n",
       "      <td>0</td>\n",
       "      <td>0</td>\n",
       "    </tr>\n",
       "    <tr>\n",
       "      <th>4</th>\n",
       "      <td>BankUnited\\r\\n2.9</td>\n",
       "      <td>2009</td>\n",
       "      <td>Banks &amp; Credit Unions</td>\n",
       "      <td>Summary: The FCC Analytics group is responsibl...</td>\n",
       "      <td>FCC Data Scientist</td>\n",
       "      <td>Miami Lakes, FL</td>\n",
       "      <td>2.9</td>\n",
       "      <td>$10+ billion (USD)</td>\n",
       "      <td>$73K-$121K (Glassdoor est.)</td>\n",
       "      <td>Finance</td>\n",
       "      <td>...</td>\n",
       "      <td>BankUnited\\r\\n</td>\n",
       "      <td>FL</td>\n",
       "      <td>11</td>\n",
       "      <td>1</td>\n",
       "      <td>0</td>\n",
       "      <td>1</td>\n",
       "      <td>0</td>\n",
       "      <td>0</td>\n",
       "      <td>0</td>\n",
       "      <td>0</td>\n",
       "    </tr>\n",
       "  </tbody>\n",
       "</table>\n",
       "<p>5 rows × 28 columns</p>\n",
       "</div>"
      ],
      "text/plain": [
       "                         Company Name  Founded                   Industry  \\\n",
       "0  Raytheon Missiles & Defense\\r\\n3.8     2020        Aerospace & Defense   \n",
       "1                       Humana\\r\\n3.9     1961         Insurance Carriers   \n",
       "2                  AstraZeneca\\r\\n4.2     1913  Biotech & Pharmaceuticals   \n",
       "3                  AstraZeneca\\r\\n4.2     1913  Biotech & Pharmaceuticals   \n",
       "4                   BankUnited\\r\\n2.9     2009      Banks & Credit Unions   \n",
       "\n",
       "                                     Job Description  \\\n",
       "0  Senior Data Scientist\\r\\nRaytheon Missiles & D...   \n",
       "1  Description\\r\\nDigital Health and Analytics wi...   \n",
       "2  Do you have a passion for Science? Would you l...   \n",
       "3  Research Scientist/ Senior Research Scientist\\...   \n",
       "4  Summary: The FCC Analytics group is responsibl...   \n",
       "\n",
       "                                       Job Title          Location  Rating  \\\n",
       "0     Senior Data Scientist , Advanced Analytics       Andover, MA     3.8   \n",
       "1                               Data Scientist 2    Louisville, KY     3.9   \n",
       "2           Scientist - Antibody Drug Conjugates  Gaithersburg, MD     4.2   \n",
       "3  Research Scientist/ Senior Research Scientist  Gaithersburg, MD     4.2   \n",
       "4                             FCC Data Scientist   Miami Lakes, FL     2.9   \n",
       "\n",
       "              Revenue               Salary Estimate  \\\n",
       "0  $10+ billion (USD)  $123K-$199K (Glassdoor est.)   \n",
       "1  $10+ billion (USD)    $52K-$95K (Glassdoor est.)   \n",
       "2  $10+ billion (USD)   $61K-$123K (Glassdoor est.)   \n",
       "3  $10+ billion (USD)   $88K-$167K (Glassdoor est.)   \n",
       "4  $10+ billion (USD)   $73K-$121K (Glassdoor est.)   \n",
       "\n",
       "                      Sector  ...                      company_txt  \\\n",
       "0        Aerospace & Defense  ...  Raytheon Missiles & Defense\\r\\n   \n",
       "1                  Insurance  ...                       Humana\\r\\n   \n",
       "2  Biotech & Pharmaceuticals  ...                  AstraZeneca\\r\\n   \n",
       "3  Biotech & Pharmaceuticals  ...                  AstraZeneca\\r\\n   \n",
       "4                    Finance  ...                   BankUnited\\r\\n   \n",
       "\n",
       "  job_region-state  age python_yn  r_studio_yn  sql_yn  cloud_yn  excel_yn  \\\n",
       "0               MA    0         1            0       0         1         0   \n",
       "1               KY   59         1            0       1         0         0   \n",
       "2               MD  107         0            0       0         0         0   \n",
       "3               MD  107         0            0       0         0         1   \n",
       "4               FL   11         1            0       1         0         0   \n",
       "\n",
       "  bigquery_yn spark_yn  \n",
       "0           0        0  \n",
       "1           0        1  \n",
       "2           0        0  \n",
       "3           0        0  \n",
       "4           0        0  \n",
       "\n",
       "[5 rows x 28 columns]"
      ]
     },
     "execution_count": 3,
     "metadata": {},
     "output_type": "execute_result"
    }
   ],
   "source": [
    "df.head()"
   ]
  },
  {
   "cell_type": "code",
   "execution_count": 4,
   "metadata": {},
   "outputs": [
    {
     "data": {
      "text/plain": [
       "Index(['Company Name', 'Founded', 'Industry', 'Job Description', 'Job Title',\n",
       "       'Location', 'Rating', 'Revenue', 'Salary Estimate', 'Sector', 'Size',\n",
       "       'Type of ownership', 'hourly', 'currency', 'employer_provided',\n",
       "       'min_salary', 'max_salary', 'average_salary', 'company_txt',\n",
       "       'job_region-state', 'age', 'python_yn', 'r_studio_yn', 'sql_yn',\n",
       "       'cloud_yn', 'excel_yn', 'bigquery_yn', 'spark_yn'],\n",
       "      dtype='object')"
      ]
     },
     "execution_count": 4,
     "metadata": {},
     "output_type": "execute_result"
    }
   ],
   "source": [
    "df.columns"
   ]
  },
  {
   "cell_type": "code",
   "execution_count": 5,
   "metadata": {},
   "outputs": [],
   "source": [
    "def title_simplifier(title):\n",
    "    if 'data scientist' in title.lower():\n",
    "        return 'data scientist'\n",
    "    elif 'data engineer' in title.lower():\n",
    "        return 'data engineer'\n",
    "    elif 'analyst' in title.lower():\n",
    "        return 'analyst'\n",
    "    elif 'machine learning' in title.lower():\n",
    "        return 'mle'\n",
    "    elif 'manager' in title.lower():\n",
    "        return 'manager'\n",
    "    elif 'director' in title.lower():\n",
    "        return 'director'\n",
    "    else:\n",
    "        return 'na'\n",
    "    \n",
    "    \n",
    "def seniority(title):\n",
    "    if 'sr' in title.lower() or 'senior' in title.lower() or 'lead' in title.lower() or 'principal' in title.lower():\n",
    "        return 'senior'\n",
    "    elif 'jr' in title.lower() or 'jr.' in title.lower() or 'intern' in title.lower() or 'co-op' in title.lower() or 'coop' in title.lower():\n",
    "        return 'jr'\n",
    "    else:\n",
    "        return 'na'           "
   ]
  },
  {
   "cell_type": "markdown",
   "metadata": {},
   "source": [
    "## Job title and seniority"
   ]
  },
  {
   "cell_type": "code",
   "execution_count": 6,
   "metadata": {},
   "outputs": [
    {
     "data": {
      "text/plain": [
       "data scientist    352\n",
       "na                110\n",
       "analyst            92\n",
       "data engineer      68\n",
       "mle                27\n",
       "manager             6\n",
       "director            3\n",
       "Name: job_simpl, dtype: int64"
      ]
     },
     "execution_count": 6,
     "metadata": {},
     "output_type": "execute_result"
    }
   ],
   "source": [
    "df['job_simpl'] = df['Job Title'].apply(title_simplifier)\n",
    "df['job_simpl'].value_counts()"
   ]
  },
  {
   "cell_type": "code",
   "execution_count": 7,
   "metadata": {},
   "outputs": [
    {
     "data": {
      "text/plain": [
       "na        493\n",
       "senior    161\n",
       "jr          4\n",
       "Name: seniority, dtype: int64"
      ]
     },
     "execution_count": 7,
     "metadata": {},
     "output_type": "execute_result"
    }
   ],
   "source": [
    "df['seniority'] = df['Job Title'].apply(seniority)\n",
    "df['seniority'].value_counts()"
   ]
  },
  {
   "cell_type": "markdown",
   "metadata": {},
   "source": [
    "## Fix State Los Angeles"
   ]
  },
  {
   "cell_type": "code",
   "execution_count": 8,
   "metadata": {
    "scrolled": true
   },
   "outputs": [
    {
     "data": {
      "text/plain": [
       "Toronto          107\n",
       " CA               65\n",
       "Vancouver         51\n",
       "Montreal          45\n",
       " MD               32\n",
       " VA               27\n",
       " NY               21\n",
       " TX               20\n",
       " MA               16\n",
       "Calgary           16\n",
       "Ottawa            15\n",
       " DC               13\n",
       " UT               12\n",
       " FL               11\n",
       " GA               10\n",
       " NJ               10\n",
       " PA                9\n",
       " NC                8\n",
       " OH                8\n",
       " CO                8\n",
       "Edmonton           8\n",
       " WI                7\n",
       "Mississauga        7\n",
       "Saint-Laurent      7\n",
       " IN                6\n",
       "Oakville           6\n",
       "Winnipeg           6\n",
       " IL                6\n",
       "North York         6\n",
       " MO                6\n",
       "                ... \n",
       " KY                3\n",
       "Quebec             2\n",
       "Welwyn             2\n",
       "Dartmouth          2\n",
       " AZ                2\n",
       "Pointe-Claire      2\n",
       "Laval              2\n",
       " ID                2\n",
       " MI                2\n",
       "Burlington         2\n",
       "Fort St. John      2\n",
       "Moncton            2\n",
       "Chatham-Kent       2\n",
       "Cochin             2\n",
       " ME                2\n",
       "Guelph             1\n",
       " KS                1\n",
       "Waterloo           1\n",
       "Bedford            1\n",
       "Kitchener          1\n",
       "Vaughan            1\n",
       "Saskatoon          1\n",
       "Vernon             1\n",
       "Surrey             1\n",
       "Venice             1\n",
       " MS                1\n",
       " SC                1\n",
       " AL                1\n",
       "Sioux Lookout      1\n",
       "Regina             1\n",
       "Name: job_region-state, Length: 71, dtype: int64"
      ]
     },
     "execution_count": 8,
     "metadata": {},
     "output_type": "execute_result"
    }
   ],
   "source": [
    "df['job_region-state'].value_counts()\n",
    "# As we dont have this issue with out dataset so it is left as is. "
   ]
  },
  {
   "cell_type": "markdown",
   "metadata": {},
   "source": [
    "## Job Description Length"
   ]
  },
  {
   "cell_type": "code",
   "execution_count": 9,
   "metadata": {
    "scrolled": true
   },
   "outputs": [
    {
     "data": {
      "text/plain": [
       "0       4667\n",
       "1       3555\n",
       "2       4703\n",
       "3       5222\n",
       "4       4843\n",
       "5       5598\n",
       "6       6609\n",
       "7       2949\n",
       "8       2972\n",
       "9       4008\n",
       "10      6252\n",
       "11      4441\n",
       "12      2244\n",
       "13      6118\n",
       "14      4771\n",
       "15      4852\n",
       "16      5673\n",
       "17      2473\n",
       "18      2921\n",
       "19      4945\n",
       "20      3535\n",
       "21      3633\n",
       "22      4972\n",
       "23      3265\n",
       "24      5332\n",
       "25      3334\n",
       "26      3775\n",
       "27      3773\n",
       "28      2277\n",
       "29      3681\n",
       "       ...  \n",
       "628     7581\n",
       "629     9114\n",
       "630     6125\n",
       "631     6283\n",
       "632    10235\n",
       "633     4644\n",
       "634     2920\n",
       "635     3486\n",
       "636     7219\n",
       "637     2711\n",
       "638     6454\n",
       "639     1810\n",
       "640     5114\n",
       "641     4430\n",
       "642     3159\n",
       "643     3522\n",
       "644     4578\n",
       "645    15432\n",
       "646     6974\n",
       "647     3231\n",
       "648     3159\n",
       "649     3522\n",
       "650     4578\n",
       "651     3076\n",
       "652     6974\n",
       "653     4895\n",
       "654     3524\n",
       "655     6283\n",
       "656     4630\n",
       "657     6013\n",
       "Name: desc_len, Length: 658, dtype: int64"
      ]
     },
     "execution_count": 9,
     "metadata": {},
     "output_type": "execute_result"
    }
   ],
   "source": [
    "df['desc_len'] = df['Job Description'].apply(lambda x: len(x))\n",
    "df['desc_len']"
   ]
  },
  {
   "cell_type": "markdown",
   "metadata": {},
   "source": [
    "## Competitor count"
   ]
  },
  {
   "cell_type": "code",
   "execution_count": 10,
   "metadata": {},
   "outputs": [],
   "source": [
    "#df['num_comp'] = df['Competitors'].apply(lambda x: len(x.split(',')) if x != '-1' else 0) "
   ]
  },
  {
   "cell_type": "markdown",
   "metadata": {},
   "source": [
    "## hourly to annual\n",
    "\n",
    "It is based on an assumption that on average there are 2000 hours / annum. "
   ]
  },
  {
   "cell_type": "code",
   "execution_count": 11,
   "metadata": {},
   "outputs": [],
   "source": [
    "df['min_salary'] = df.apply(lambda x: x.min_salary*2 if x.hourly is 1 else x.min_salary, axis = 1)\n",
    "df['max_salary'] = df.apply(lambda x: x.max_salary*2 if x.hourly is 1 else x.max_salary, axis = 1)"
   ]
  },
  {
   "cell_type": "code",
   "execution_count": 12,
   "metadata": {},
   "outputs": [
    {
     "data": {
      "text/html": [
       "<div>\n",
       "<style scoped>\n",
       "    .dataframe tbody tr th:only-of-type {\n",
       "        vertical-align: middle;\n",
       "    }\n",
       "\n",
       "    .dataframe tbody tr th {\n",
       "        vertical-align: top;\n",
       "    }\n",
       "\n",
       "    .dataframe thead th {\n",
       "        text-align: right;\n",
       "    }\n",
       "</style>\n",
       "<table border=\"1\" class=\"dataframe\">\n",
       "  <thead>\n",
       "    <tr style=\"text-align: right;\">\n",
       "      <th></th>\n",
       "      <th>hourly</th>\n",
       "      <th>min_salary</th>\n",
       "      <th>max_salary</th>\n",
       "    </tr>\n",
       "  </thead>\n",
       "  <tbody>\n",
       "    <tr>\n",
       "      <th>10</th>\n",
       "      <td>1</td>\n",
       "      <td>36</td>\n",
       "      <td>66</td>\n",
       "    </tr>\n",
       "    <tr>\n",
       "      <th>157</th>\n",
       "      <td>1</td>\n",
       "      <td>94</td>\n",
       "      <td>142</td>\n",
       "    </tr>\n",
       "    <tr>\n",
       "      <th>182</th>\n",
       "      <td>1</td>\n",
       "      <td>94</td>\n",
       "      <td>142</td>\n",
       "    </tr>\n",
       "    <tr>\n",
       "      <th>265</th>\n",
       "      <td>1</td>\n",
       "      <td>30</td>\n",
       "      <td>52</td>\n",
       "    </tr>\n",
       "    <tr>\n",
       "      <th>282</th>\n",
       "      <td>1</td>\n",
       "      <td>14</td>\n",
       "      <td>22</td>\n",
       "    </tr>\n",
       "    <tr>\n",
       "      <th>297</th>\n",
       "      <td>1</td>\n",
       "      <td>28</td>\n",
       "      <td>40</td>\n",
       "    </tr>\n",
       "    <tr>\n",
       "      <th>312</th>\n",
       "      <td>1</td>\n",
       "      <td>14</td>\n",
       "      <td>22</td>\n",
       "    </tr>\n",
       "  </tbody>\n",
       "</table>\n",
       "</div>"
      ],
      "text/plain": [
       "     hourly  min_salary  max_salary\n",
       "10        1          36          66\n",
       "157       1          94         142\n",
       "182       1          94         142\n",
       "265       1          30          52\n",
       "282       1          14          22\n",
       "297       1          28          40\n",
       "312       1          14          22"
      ]
     },
     "execution_count": 12,
     "metadata": {},
     "output_type": "execute_result"
    }
   ],
   "source": [
    "df[df.hourly == 1][['hourly', 'min_salary', 'max_salary']]"
   ]
  },
  {
   "cell_type": "markdown",
   "metadata": {},
   "source": [
    "## Converting CAD to US Dollar for fair comparison\n",
    "\n",
    "Conversion rate @Date 2020-12-20 = 1 CAD = 0.78 US Dollar"
   ]
  },
  {
   "cell_type": "code",
   "execution_count": 13,
   "metadata": {},
   "outputs": [],
   "source": [
    "df['average_salary'] = df.apply(lambda x: x.average_salary*0.78 if x.currency is 'CAD' else x.average_salary, axis = 1)\n",
    "df['min_salary'] = df.apply(lambda x: x.min_salary*0.78 if x.currency is 'CAD' else x.min_salary, axis = 1)\n",
    "df['max_salary'] = df.apply(lambda x: x.max_salary*0.78 if x.currency is 'CAD' else x.max_salary, axis = 1)\n"
   ]
  },
  {
   "cell_type": "markdown",
   "metadata": {},
   "source": [
    "## remove new line from job title"
   ]
  },
  {
   "cell_type": "code",
   "execution_count": 14,
   "metadata": {},
   "outputs": [],
   "source": [
    "df['company_txt'] = df.company_txt.apply(lambda x: x.replace('\\r', '').replace('\\n',''))"
   ]
  },
  {
   "cell_type": "code",
   "execution_count": 15,
   "metadata": {
    "scrolled": true
   },
   "outputs": [
    {
     "data": {
      "text/plain": [
       "0                         Raytheon Missiles & Defense\n",
       "1                                              Humana\n",
       "2                                         AstraZeneca\n",
       "3                                         AstraZeneca\n",
       "4                                          BankUnited\n",
       "5                                                Unum\n",
       "6                             Farm Credit Mid-America\n",
       "7      Johns Hopkins Applied Physics Laboratory (APL)\n",
       "8                                Myriad Genetics, Inc\n",
       "9                                               GEICO\n",
       "10                                    Trinity Biotech\n",
       "11                                      Tivity Health\n",
       "12                                             Humana\n",
       "13                          Catalent Pharma Solutions\n",
       "14                                              GEICO\n",
       "15                  Intuitive Research and Technology\n",
       "16                                        Benson Hill\n",
       "17                                            Enverus\n",
       "18                             Intelligent Automation\n",
       "19                                            Blucora\n",
       "20                          BioFire Diagnostics, LLC.\n",
       "21                                              Avant\n",
       "22                                         Akima, LLC\n",
       "23                                   Northrop Grumman\n",
       "24                            Laticrete International\n",
       "25                                   Northrop Grumman\n",
       "26                                United Therapeutics\n",
       "27                                            Buckman\n",
       "28           Assured Information Security, Inc. (AIS)\n",
       "29                                            Waystar\n",
       "                            ...                      \n",
       "628                      Renaissance BioScience Corp.\n",
       "629                                        NanoXplore\n",
       "630                    Government of British Columbia\n",
       "631              Provincial Health Services Authority\n",
       "632                                          CAE Inc.\n",
       "633                      Amazon Dev Centre Canada ULC\n",
       "634                                           Uplight\n",
       "635                                             CDLSI\n",
       "636                                ZeniMax Media Inc.\n",
       "637                                          agileDSS\n",
       "638                                             Onica\n",
       "639                                           Aerotek\n",
       "640                                            Kainos\n",
       "641                                      Rocket Homes\n",
       "642                         IT IQ TECH RECRUITERS LTD\n",
       "643                                        O2E Brands\n",
       "644                                 Savormetrics Inc.\n",
       "645                 Sunnybrook Health Sciences Centre\n",
       "646                                          CaseWare\n",
       "647                                      Global Relay\n",
       "648                         IT IQ TECH RECRUITERS LTD\n",
       "649                                        O2E Brands\n",
       "650                                 Savormetrics Inc.\n",
       "651                        SynergyAspen Environmental\n",
       "652                                          CaseWare\n",
       "653            Centre for Addiction and Mental Health\n",
       "654                                            Tucows\n",
       "655              Provincial Health Services Authority\n",
       "656                                           AVANADE\n",
       "657                                            Tecsys\n",
       "Name: company_txt, Length: 658, dtype: object"
      ]
     },
     "execution_count": 15,
     "metadata": {},
     "output_type": "execute_result"
    }
   ],
   "source": [
    "df['company_txt']"
   ]
  },
  {
   "cell_type": "markdown",
   "metadata": {},
   "source": [
    "# Exploratory Data Analysis"
   ]
  },
  {
   "cell_type": "code",
   "execution_count": 16,
   "metadata": {
    "scrolled": true
   },
   "outputs": [
    {
     "data": {
      "text/html": [
       "<div>\n",
       "<style scoped>\n",
       "    .dataframe tbody tr th:only-of-type {\n",
       "        vertical-align: middle;\n",
       "    }\n",
       "\n",
       "    .dataframe tbody tr th {\n",
       "        vertical-align: top;\n",
       "    }\n",
       "\n",
       "    .dataframe thead th {\n",
       "        text-align: right;\n",
       "    }\n",
       "</style>\n",
       "<table border=\"1\" class=\"dataframe\">\n",
       "  <thead>\n",
       "    <tr style=\"text-align: right;\">\n",
       "      <th></th>\n",
       "      <th>Founded</th>\n",
       "      <th>Rating</th>\n",
       "      <th>hourly</th>\n",
       "      <th>employer_provided</th>\n",
       "      <th>min_salary</th>\n",
       "      <th>max_salary</th>\n",
       "      <th>average_salary</th>\n",
       "      <th>age</th>\n",
       "      <th>python_yn</th>\n",
       "      <th>r_studio_yn</th>\n",
       "      <th>sql_yn</th>\n",
       "      <th>cloud_yn</th>\n",
       "      <th>excel_yn</th>\n",
       "      <th>bigquery_yn</th>\n",
       "      <th>spark_yn</th>\n",
       "      <th>desc_len</th>\n",
       "    </tr>\n",
       "  </thead>\n",
       "  <tbody>\n",
       "    <tr>\n",
       "      <th>count</th>\n",
       "      <td>658.000000</td>\n",
       "      <td>658.000000</td>\n",
       "      <td>658.000000</td>\n",
       "      <td>658.0</td>\n",
       "      <td>658.000000</td>\n",
       "      <td>658.000000</td>\n",
       "      <td>658.000000</td>\n",
       "      <td>658.000000</td>\n",
       "      <td>658.000000</td>\n",
       "      <td>658.00000</td>\n",
       "      <td>658.000000</td>\n",
       "      <td>658.000000</td>\n",
       "      <td>658.000000</td>\n",
       "      <td>658.000000</td>\n",
       "      <td>658.000000</td>\n",
       "      <td>658.000000</td>\n",
       "    </tr>\n",
       "    <tr>\n",
       "      <th>mean</th>\n",
       "      <td>1580.547112</td>\n",
       "      <td>3.505623</td>\n",
       "      <td>0.010638</td>\n",
       "      <td>0.0</td>\n",
       "      <td>74.130699</td>\n",
       "      <td>113.155015</td>\n",
       "      <td>93.340426</td>\n",
       "      <td>33.823708</td>\n",
       "      <td>0.700608</td>\n",
       "      <td>0.00304</td>\n",
       "      <td>0.521277</td>\n",
       "      <td>0.313070</td>\n",
       "      <td>0.541033</td>\n",
       "      <td>0.025836</td>\n",
       "      <td>0.261398</td>\n",
       "      <td>4276.715805</td>\n",
       "    </tr>\n",
       "    <tr>\n",
       "      <th>std</th>\n",
       "      <td>793.937477</td>\n",
       "      <td>1.283468</td>\n",
       "      <td>0.102670</td>\n",
       "      <td>0.0</td>\n",
       "      <td>25.868852</td>\n",
       "      <td>39.440806</td>\n",
       "      <td>31.826423</td>\n",
       "      <td>44.560419</td>\n",
       "      <td>0.458340</td>\n",
       "      <td>0.05509</td>\n",
       "      <td>0.499927</td>\n",
       "      <td>0.464095</td>\n",
       "      <td>0.498693</td>\n",
       "      <td>0.158766</td>\n",
       "      <td>0.439731</td>\n",
       "      <td>1897.576678</td>\n",
       "    </tr>\n",
       "    <tr>\n",
       "      <th>min</th>\n",
       "      <td>-1.000000</td>\n",
       "      <td>-1.000000</td>\n",
       "      <td>0.000000</td>\n",
       "      <td>0.0</td>\n",
       "      <td>11.000000</td>\n",
       "      <td>22.000000</td>\n",
       "      <td>9.000000</td>\n",
       "      <td>-1.000000</td>\n",
       "      <td>0.000000</td>\n",
       "      <td>0.00000</td>\n",
       "      <td>0.000000</td>\n",
       "      <td>0.000000</td>\n",
       "      <td>0.000000</td>\n",
       "      <td>0.000000</td>\n",
       "      <td>0.000000</td>\n",
       "      <td>145.000000</td>\n",
       "    </tr>\n",
       "    <tr>\n",
       "      <th>25%</th>\n",
       "      <td>1892.000000</td>\n",
       "      <td>3.400000</td>\n",
       "      <td>0.000000</td>\n",
       "      <td>0.0</td>\n",
       "      <td>56.000000</td>\n",
       "      <td>85.000000</td>\n",
       "      <td>71.000000</td>\n",
       "      <td>4.000000</td>\n",
       "      <td>0.000000</td>\n",
       "      <td>0.00000</td>\n",
       "      <td>0.000000</td>\n",
       "      <td>0.000000</td>\n",
       "      <td>0.000000</td>\n",
       "      <td>0.000000</td>\n",
       "      <td>0.000000</td>\n",
       "      <td>3080.250000</td>\n",
       "    </tr>\n",
       "    <tr>\n",
       "      <th>50%</th>\n",
       "      <td>1983.500000</td>\n",
       "      <td>3.800000</td>\n",
       "      <td>0.000000</td>\n",
       "      <td>0.0</td>\n",
       "      <td>72.000000</td>\n",
       "      <td>107.000000</td>\n",
       "      <td>89.500000</td>\n",
       "      <td>18.000000</td>\n",
       "      <td>1.000000</td>\n",
       "      <td>0.00000</td>\n",
       "      <td>1.000000</td>\n",
       "      <td>0.000000</td>\n",
       "      <td>1.000000</td>\n",
       "      <td>0.000000</td>\n",
       "      <td>0.000000</td>\n",
       "      <td>3980.500000</td>\n",
       "    </tr>\n",
       "    <tr>\n",
       "      <th>75%</th>\n",
       "      <td>2005.000000</td>\n",
       "      <td>4.100000</td>\n",
       "      <td>0.000000</td>\n",
       "      <td>0.0</td>\n",
       "      <td>89.000000</td>\n",
       "      <td>136.000000</td>\n",
       "      <td>111.750000</td>\n",
       "      <td>43.000000</td>\n",
       "      <td>1.000000</td>\n",
       "      <td>0.00000</td>\n",
       "      <td>1.000000</td>\n",
       "      <td>1.000000</td>\n",
       "      <td>1.000000</td>\n",
       "      <td>0.000000</td>\n",
       "      <td>1.000000</td>\n",
       "      <td>5168.500000</td>\n",
       "    </tr>\n",
       "    <tr>\n",
       "      <th>max</th>\n",
       "      <td>2020.000000</td>\n",
       "      <td>5.000000</td>\n",
       "      <td>1.000000</td>\n",
       "      <td>0.0</td>\n",
       "      <td>155.000000</td>\n",
       "      <td>247.000000</td>\n",
       "      <td>201.000000</td>\n",
       "      <td>352.000000</td>\n",
       "      <td>1.000000</td>\n",
       "      <td>1.00000</td>\n",
       "      <td>1.000000</td>\n",
       "      <td>1.000000</td>\n",
       "      <td>1.000000</td>\n",
       "      <td>1.000000</td>\n",
       "      <td>1.000000</td>\n",
       "      <td>16129.000000</td>\n",
       "    </tr>\n",
       "  </tbody>\n",
       "</table>\n",
       "</div>"
      ],
      "text/plain": [
       "           Founded      Rating      hourly  employer_provided  min_salary  \\\n",
       "count   658.000000  658.000000  658.000000              658.0  658.000000   \n",
       "mean   1580.547112    3.505623    0.010638                0.0   74.130699   \n",
       "std     793.937477    1.283468    0.102670                0.0   25.868852   \n",
       "min      -1.000000   -1.000000    0.000000                0.0   11.000000   \n",
       "25%    1892.000000    3.400000    0.000000                0.0   56.000000   \n",
       "50%    1983.500000    3.800000    0.000000                0.0   72.000000   \n",
       "75%    2005.000000    4.100000    0.000000                0.0   89.000000   \n",
       "max    2020.000000    5.000000    1.000000                0.0  155.000000   \n",
       "\n",
       "       max_salary  average_salary         age   python_yn  r_studio_yn  \\\n",
       "count  658.000000      658.000000  658.000000  658.000000    658.00000   \n",
       "mean   113.155015       93.340426   33.823708    0.700608      0.00304   \n",
       "std     39.440806       31.826423   44.560419    0.458340      0.05509   \n",
       "min     22.000000        9.000000   -1.000000    0.000000      0.00000   \n",
       "25%     85.000000       71.000000    4.000000    0.000000      0.00000   \n",
       "50%    107.000000       89.500000   18.000000    1.000000      0.00000   \n",
       "75%    136.000000      111.750000   43.000000    1.000000      0.00000   \n",
       "max    247.000000      201.000000  352.000000    1.000000      1.00000   \n",
       "\n",
       "           sql_yn    cloud_yn    excel_yn  bigquery_yn    spark_yn  \\\n",
       "count  658.000000  658.000000  658.000000   658.000000  658.000000   \n",
       "mean     0.521277    0.313070    0.541033     0.025836    0.261398   \n",
       "std      0.499927    0.464095    0.498693     0.158766    0.439731   \n",
       "min      0.000000    0.000000    0.000000     0.000000    0.000000   \n",
       "25%      0.000000    0.000000    0.000000     0.000000    0.000000   \n",
       "50%      1.000000    0.000000    1.000000     0.000000    0.000000   \n",
       "75%      1.000000    1.000000    1.000000     0.000000    1.000000   \n",
       "max      1.000000    1.000000    1.000000     1.000000    1.000000   \n",
       "\n",
       "           desc_len  \n",
       "count    658.000000  \n",
       "mean    4276.715805  \n",
       "std     1897.576678  \n",
       "min      145.000000  \n",
       "25%     3080.250000  \n",
       "50%     3980.500000  \n",
       "75%     5168.500000  \n",
       "max    16129.000000  "
      ]
     },
     "execution_count": 16,
     "metadata": {},
     "output_type": "execute_result"
    }
   ],
   "source": [
    "df.describe()"
   ]
  },
  {
   "cell_type": "code",
   "execution_count": 17,
   "metadata": {},
   "outputs": [
    {
     "data": {
      "text/plain": [
       "Index(['Company Name', 'Founded', 'Industry', 'Job Description', 'Job Title',\n",
       "       'Location', 'Rating', 'Revenue', 'Salary Estimate', 'Sector', 'Size',\n",
       "       'Type of ownership', 'hourly', 'currency', 'employer_provided',\n",
       "       'min_salary', 'max_salary', 'average_salary', 'company_txt',\n",
       "       'job_region-state', 'age', 'python_yn', 'r_studio_yn', 'sql_yn',\n",
       "       'cloud_yn', 'excel_yn', 'bigquery_yn', 'spark_yn', 'job_simpl',\n",
       "       'seniority', 'desc_len'],\n",
       "      dtype='object')"
      ]
     },
     "execution_count": 17,
     "metadata": {},
     "output_type": "execute_result"
    }
   ],
   "source": [
    "df.columns"
   ]
  },
  {
   "cell_type": "code",
   "execution_count": 18,
   "metadata": {},
   "outputs": [
    {
     "data": {
      "text/plain": [
       "<matplotlib.axes._subplots.AxesSubplot at 0x1b5cd81bef0>"
      ]
     },
     "execution_count": 18,
     "metadata": {},
     "output_type": "execute_result"
    },
    {
     "data": {
      "image/png": "[encoded data removed]",
      "text/plain": [
       "<Figure size 432x288 with 1 Axes>"
      ]
     },
     "metadata": {
      "needs_background": "light"
     },
     "output_type": "display_data"
    }
   ],
   "source": [
    "df.Rating.hist()"
   ]
  },
  {
   "cell_type": "code",
   "execution_count": 19,
   "metadata": {},
   "outputs": [
    {
     "data": {
      "text/plain": [
       "<matplotlib.axes._subplots.AxesSubplot at 0x1b5cdf7eac8>"
      ]
     },
     "execution_count": 19,
     "metadata": {},
     "output_type": "execute_result"
    },
    {
     "data": {
      "image/png": "[encoded data removed]",
      "text/plain": [
       "<Figure size 432x288 with 1 Axes>"
      ]
     },
     "metadata": {
      "needs_background": "light"
     },
     "output_type": "display_data"
    }
   ],
   "source": [
    "df.average_salary.hist()"
   ]
  },
  {
   "cell_type": "code",
   "execution_count": 20,
   "metadata": {},
   "outputs": [
    {
     "data": {
      "text/plain": [
       "<matplotlib.axes._subplots.AxesSubplot at 0x1b5ce043ef0>"
      ]
     },
     "execution_count": 20,
     "metadata": {},
     "output_type": "execute_result"
    },
    {
     "data": {
      "image/png": "[encoded data removed]",
      "text/plain": [
       "<Figure size 432x288 with 1 Axes>"
      ]
     },
     "metadata": {
      "needs_background": "light"
     },
     "output_type": "display_data"
    }
   ],
   "source": [
    "df.age.hist()"
   ]
  },
  {
   "cell_type": "code",
   "execution_count": 21,
   "metadata": {},
   "outputs": [
    {
     "data": {
      "text/plain": [
       "<matplotlib.axes._subplots.AxesSubplot at 0x1b5ce078d30>"
      ]
     },
     "execution_count": 21,
     "metadata": {},
     "output_type": "execute_result"
    },
    {
     "data": {
      "image/png": "[encoded data removed]",
      "text/plain": [
       "<Figure size 432x288 with 1 Axes>"
      ]
     },
     "metadata": {
      "needs_background": "light"
     },
     "output_type": "display_data"
    }
   ],
   "source": [
    "df.job_simpl.hist()"
   ]
  },
  {
   "cell_type": "code",
   "execution_count": 22,
   "metadata": {},
   "outputs": [
    {
     "data": {
      "text/plain": [
       "<matplotlib.axes._subplots.AxesSubplot at 0x1b5ce14c2b0>"
      ]
     },
     "execution_count": 22,
     "metadata": {},
     "output_type": "execute_result"
    },
    {
     "data": {
      "image/png": "[encoded data removed]",
      "text/plain": [
       "<Figure size 432x288 with 1 Axes>"
      ]
     },
     "metadata": {
      "needs_background": "light"
     },
     "output_type": "display_data"
    }
   ],
   "source": [
    "df.desc_len.hist()"
   ]
  },
  {
   "cell_type": "code",
   "execution_count": 23,
   "metadata": {},
   "outputs": [
    {
     "data": {
      "text/plain": [
       "<matplotlib.axes._subplots.AxesSubplot at 0x1b5ce1d7710>"
      ]
     },
     "execution_count": 23,
     "metadata": {},
     "output_type": "execute_result"
    },
    {
     "data": {
      "image/png": "[encoded data removed]",
      "text/plain": [
       "<Figure size 432x288 with 1 Axes>"
      ]
     },
     "metadata": {
      "needs_background": "light"
     },
     "output_type": "display_data"
    }
   ],
   "source": [
    "df.boxplot(column = ['age', 'Rating', 'average_salary'])"
   ]
  },
  {
   "cell_type": "code",
   "execution_count": 24,
   "metadata": {},
   "outputs": [
    {
     "data": {
      "text/plain": [
       "<matplotlib.axes._subplots.AxesSubplot at 0x1b5ce273080>"
      ]
     },
     "execution_count": 24,
     "metadata": {},
     "output_type": "execute_result"
    },
    {
     "data": {
      "image/png": "[encoded data removed]",
      "text/plain": [
       "<Figure size 432x288 with 1 Axes>"
      ]
     },
     "metadata": {
      "needs_background": "light"
     },
     "output_type": "display_data"
    }
   ],
   "source": [
    "df.boxplot(column = 'Rating')"
   ]
  },
  {
   "cell_type": "code",
   "execution_count": 25,
   "metadata": {},
   "outputs": [
    {
     "data": {
      "text/html": [
       "<div>\n",
       "<style scoped>\n",
       "    .dataframe tbody tr th:only-of-type {\n",
       "        vertical-align: middle;\n",
       "    }\n",
       "\n",
       "    .dataframe tbody tr th {\n",
       "        vertical-align: top;\n",
       "    }\n",
       "\n",
       "    .dataframe thead th {\n",
       "        text-align: right;\n",
       "    }\n",
       "</style>\n",
       "<table border=\"1\" class=\"dataframe\">\n",
       "  <thead>\n",
       "    <tr style=\"text-align: right;\">\n",
       "      <th></th>\n",
       "      <th>Founded</th>\n",
       "      <th>Rating</th>\n",
       "      <th>hourly</th>\n",
       "      <th>employer_provided</th>\n",
       "      <th>min_salary</th>\n",
       "      <th>max_salary</th>\n",
       "      <th>average_salary</th>\n",
       "      <th>age</th>\n",
       "      <th>python_yn</th>\n",
       "      <th>r_studio_yn</th>\n",
       "      <th>sql_yn</th>\n",
       "      <th>cloud_yn</th>\n",
       "      <th>excel_yn</th>\n",
       "      <th>bigquery_yn</th>\n",
       "      <th>spark_yn</th>\n",
       "      <th>desc_len</th>\n",
       "    </tr>\n",
       "  </thead>\n",
       "  <tbody>\n",
       "    <tr>\n",
       "      <th>Founded</th>\n",
       "      <td>1.000000</td>\n",
       "      <td>0.473270</td>\n",
       "      <td>0.015147</td>\n",
       "      <td>NaN</td>\n",
       "      <td>0.192933</td>\n",
       "      <td>0.238867</td>\n",
       "      <td>0.224846</td>\n",
       "      <td>0.343754</td>\n",
       "      <td>0.093107</td>\n",
       "      <td>-0.040406</td>\n",
       "      <td>0.091868</td>\n",
       "      <td>0.113009</td>\n",
       "      <td>-0.004174</td>\n",
       "      <td>0.085367</td>\n",
       "      <td>0.027039</td>\n",
       "      <td>0.069352</td>\n",
       "    </tr>\n",
       "    <tr>\n",
       "      <th>Rating</th>\n",
       "      <td>0.473270</td>\n",
       "      <td>1.000000</td>\n",
       "      <td>-0.017781</td>\n",
       "      <td>NaN</td>\n",
       "      <td>0.199349</td>\n",
       "      <td>0.205112</td>\n",
       "      <td>0.209475</td>\n",
       "      <td>0.201475</td>\n",
       "      <td>0.033397</td>\n",
       "      <td>0.010521</td>\n",
       "      <td>0.071808</td>\n",
       "      <td>0.101041</td>\n",
       "      <td>0.015215</td>\n",
       "      <td>0.068752</td>\n",
       "      <td>0.052678</td>\n",
       "      <td>0.051559</td>\n",
       "    </tr>\n",
       "    <tr>\n",
       "      <th>hourly</th>\n",
       "      <td>0.015147</td>\n",
       "      <td>-0.017781</td>\n",
       "      <td>1.000000</td>\n",
       "      <td>NaN</td>\n",
       "      <td>-0.119724</td>\n",
       "      <td>-0.115050</td>\n",
       "      <td>-0.211653</td>\n",
       "      <td>0.002074</td>\n",
       "      <td>-0.158627</td>\n",
       "      <td>-0.005726</td>\n",
       "      <td>-0.108206</td>\n",
       "      <td>-0.006117</td>\n",
       "      <td>0.036052</td>\n",
       "      <td>-0.016887</td>\n",
       "      <td>-0.061689</td>\n",
       "      <td>0.104000</td>\n",
       "    </tr>\n",
       "    <tr>\n",
       "      <th>employer_provided</th>\n",
       "      <td>NaN</td>\n",
       "      <td>NaN</td>\n",
       "      <td>NaN</td>\n",
       "      <td>NaN</td>\n",
       "      <td>NaN</td>\n",
       "      <td>NaN</td>\n",
       "      <td>NaN</td>\n",
       "      <td>NaN</td>\n",
       "      <td>NaN</td>\n",
       "      <td>NaN</td>\n",
       "      <td>NaN</td>\n",
       "      <td>NaN</td>\n",
       "      <td>NaN</td>\n",
       "      <td>NaN</td>\n",
       "      <td>NaN</td>\n",
       "      <td>NaN</td>\n",
       "    </tr>\n",
       "    <tr>\n",
       "      <th>min_salary</th>\n",
       "      <td>0.192933</td>\n",
       "      <td>0.199349</td>\n",
       "      <td>-0.119724</td>\n",
       "      <td>NaN</td>\n",
       "      <td>1.000000</td>\n",
       "      <td>0.860206</td>\n",
       "      <td>0.941996</td>\n",
       "      <td>-0.003379</td>\n",
       "      <td>0.310114</td>\n",
       "      <td>-0.054749</td>\n",
       "      <td>0.172440</td>\n",
       "      <td>0.147328</td>\n",
       "      <td>-0.118047</td>\n",
       "      <td>0.119620</td>\n",
       "      <td>0.178832</td>\n",
       "      <td>-0.046759</td>\n",
       "    </tr>\n",
       "    <tr>\n",
       "      <th>max_salary</th>\n",
       "      <td>0.238867</td>\n",
       "      <td>0.205112</td>\n",
       "      <td>-0.115050</td>\n",
       "      <td>NaN</td>\n",
       "      <td>0.860206</td>\n",
       "      <td>1.000000</td>\n",
       "      <td>0.971565</td>\n",
       "      <td>0.050937</td>\n",
       "      <td>0.238494</td>\n",
       "      <td>-0.074472</td>\n",
       "      <td>0.119020</td>\n",
       "      <td>0.127647</td>\n",
       "      <td>-0.121973</td>\n",
       "      <td>0.106067</td>\n",
       "      <td>0.110433</td>\n",
       "      <td>-0.043839</td>\n",
       "    </tr>\n",
       "    <tr>\n",
       "      <th>average_salary</th>\n",
       "      <td>0.224846</td>\n",
       "      <td>0.209475</td>\n",
       "      <td>-0.211653</td>\n",
       "      <td>NaN</td>\n",
       "      <td>0.941996</td>\n",
       "      <td>0.971565</td>\n",
       "      <td>1.000000</td>\n",
       "      <td>0.026887</td>\n",
       "      <td>0.288356</td>\n",
       "      <td>-0.067870</td>\n",
       "      <td>0.153751</td>\n",
       "      <td>0.133228</td>\n",
       "      <td>-0.128235</td>\n",
       "      <td>0.115885</td>\n",
       "      <td>0.146763</td>\n",
       "      <td>-0.054522</td>\n",
       "    </tr>\n",
       "    <tr>\n",
       "      <th>age</th>\n",
       "      <td>0.343754</td>\n",
       "      <td>0.201475</td>\n",
       "      <td>0.002074</td>\n",
       "      <td>NaN</td>\n",
       "      <td>-0.003379</td>\n",
       "      <td>0.050937</td>\n",
       "      <td>0.026887</td>\n",
       "      <td>1.000000</td>\n",
       "      <td>-0.079646</td>\n",
       "      <td>-0.030783</td>\n",
       "      <td>-0.005434</td>\n",
       "      <td>-0.030447</td>\n",
       "      <td>0.132040</td>\n",
       "      <td>-0.037436</td>\n",
       "      <td>-0.088373</td>\n",
       "      <td>0.176645</td>\n",
       "    </tr>\n",
       "    <tr>\n",
       "      <th>python_yn</th>\n",
       "      <td>0.093107</td>\n",
       "      <td>0.033397</td>\n",
       "      <td>-0.158627</td>\n",
       "      <td>NaN</td>\n",
       "      <td>0.310114</td>\n",
       "      <td>0.238494</td>\n",
       "      <td>0.288356</td>\n",
       "      <td>-0.079646</td>\n",
       "      <td>1.000000</td>\n",
       "      <td>0.036095</td>\n",
       "      <td>0.336725</td>\n",
       "      <td>0.212338</td>\n",
       "      <td>-0.056046</td>\n",
       "      <td>0.085541</td>\n",
       "      <td>0.290716</td>\n",
       "      <td>-0.043697</td>\n",
       "    </tr>\n",
       "    <tr>\n",
       "      <th>r_studio_yn</th>\n",
       "      <td>-0.040406</td>\n",
       "      <td>0.010521</td>\n",
       "      <td>-0.005726</td>\n",
       "      <td>NaN</td>\n",
       "      <td>-0.054749</td>\n",
       "      <td>-0.074472</td>\n",
       "      <td>-0.067870</td>\n",
       "      <td>-0.030783</td>\n",
       "      <td>0.036095</td>\n",
       "      <td>1.000000</td>\n",
       "      <td>0.052914</td>\n",
       "      <td>0.022257</td>\n",
       "      <td>0.050856</td>\n",
       "      <td>-0.008992</td>\n",
       "      <td>0.029983</td>\n",
       "      <td>0.026770</td>\n",
       "    </tr>\n",
       "    <tr>\n",
       "      <th>sql_yn</th>\n",
       "      <td>0.091868</td>\n",
       "      <td>0.071808</td>\n",
       "      <td>-0.108206</td>\n",
       "      <td>NaN</td>\n",
       "      <td>0.172440</td>\n",
       "      <td>0.119020</td>\n",
       "      <td>0.153751</td>\n",
       "      <td>-0.005434</td>\n",
       "      <td>0.336725</td>\n",
       "      <td>0.052914</td>\n",
       "      <td>1.000000</td>\n",
       "      <td>0.187735</td>\n",
       "      <td>0.002598</td>\n",
       "      <td>0.136888</td>\n",
       "      <td>0.189298</td>\n",
       "      <td>0.014739</td>\n",
       "    </tr>\n",
       "    <tr>\n",
       "      <th>cloud_yn</th>\n",
       "      <td>0.113009</td>\n",
       "      <td>0.101041</td>\n",
       "      <td>-0.006117</td>\n",
       "      <td>NaN</td>\n",
       "      <td>0.147328</td>\n",
       "      <td>0.127647</td>\n",
       "      <td>0.133228</td>\n",
       "      <td>-0.030447</td>\n",
       "      <td>0.212338</td>\n",
       "      <td>0.022257</td>\n",
       "      <td>0.187735</td>\n",
       "      <td>1.000000</td>\n",
       "      <td>-0.062167</td>\n",
       "      <td>0.034659</td>\n",
       "      <td>0.359133</td>\n",
       "      <td>0.158398</td>\n",
       "    </tr>\n",
       "    <tr>\n",
       "      <th>excel_yn</th>\n",
       "      <td>-0.004174</td>\n",
       "      <td>0.015215</td>\n",
       "      <td>0.036052</td>\n",
       "      <td>NaN</td>\n",
       "      <td>-0.118047</td>\n",
       "      <td>-0.121973</td>\n",
       "      <td>-0.128235</td>\n",
       "      <td>0.132040</td>\n",
       "      <td>-0.056046</td>\n",
       "      <td>0.050856</td>\n",
       "      <td>0.002598</td>\n",
       "      <td>-0.062167</td>\n",
       "      <td>1.000000</td>\n",
       "      <td>0.015426</td>\n",
       "      <td>-0.069810</td>\n",
       "      <td>0.225621</td>\n",
       "    </tr>\n",
       "    <tr>\n",
       "      <th>bigquery_yn</th>\n",
       "      <td>0.085367</td>\n",
       "      <td>0.068752</td>\n",
       "      <td>-0.016887</td>\n",
       "      <td>NaN</td>\n",
       "      <td>0.119620</td>\n",
       "      <td>0.106067</td>\n",
       "      <td>0.115885</td>\n",
       "      <td>-0.037436</td>\n",
       "      <td>0.085541</td>\n",
       "      <td>-0.008992</td>\n",
       "      <td>0.136888</td>\n",
       "      <td>0.034659</td>\n",
       "      <td>0.015426</td>\n",
       "      <td>1.000000</td>\n",
       "      <td>0.033928</td>\n",
       "      <td>0.064864</td>\n",
       "    </tr>\n",
       "    <tr>\n",
       "      <th>spark_yn</th>\n",
       "      <td>0.027039</td>\n",
       "      <td>0.052678</td>\n",
       "      <td>-0.061689</td>\n",
       "      <td>NaN</td>\n",
       "      <td>0.178832</td>\n",
       "      <td>0.110433</td>\n",
       "      <td>0.146763</td>\n",
       "      <td>-0.088373</td>\n",
       "      <td>0.290716</td>\n",
       "      <td>0.029983</td>\n",
       "      <td>0.189298</td>\n",
       "      <td>0.359133</td>\n",
       "      <td>-0.069810</td>\n",
       "      <td>0.033928</td>\n",
       "      <td>1.000000</td>\n",
       "      <td>0.046000</td>\n",
       "    </tr>\n",
       "    <tr>\n",
       "      <th>desc_len</th>\n",
       "      <td>0.069352</td>\n",
       "      <td>0.051559</td>\n",
       "      <td>0.104000</td>\n",
       "      <td>NaN</td>\n",
       "      <td>-0.046759</td>\n",
       "      <td>-0.043839</td>\n",
       "      <td>-0.054522</td>\n",
       "      <td>0.176645</td>\n",
       "      <td>-0.043697</td>\n",
       "      <td>0.026770</td>\n",
       "      <td>0.014739</td>\n",
       "      <td>0.158398</td>\n",
       "      <td>0.225621</td>\n",
       "      <td>0.064864</td>\n",
       "      <td>0.046000</td>\n",
       "      <td>1.000000</td>\n",
       "    </tr>\n",
       "  </tbody>\n",
       "</table>\n",
       "</div>"
      ],
      "text/plain": [
       "                    Founded    Rating    hourly  employer_provided  \\\n",
       "Founded            1.000000  0.473270  0.015147                NaN   \n",
       "Rating             0.473270  1.000000 -0.017781                NaN   \n",
       "hourly             0.015147 -0.017781  1.000000                NaN   \n",
       "employer_provided       NaN       NaN       NaN                NaN   \n",
       "min_salary         0.192933  0.199349 -0.119724                NaN   \n",
       "max_salary         0.238867  0.205112 -0.115050                NaN   \n",
       "average_salary     0.224846  0.209475 -0.211653                NaN   \n",
       "age                0.343754  0.201475  0.002074                NaN   \n",
       "python_yn          0.093107  0.033397 -0.158627                NaN   \n",
       "r_studio_yn       -0.040406  0.010521 -0.005726                NaN   \n",
       "sql_yn             0.091868  0.071808 -0.108206                NaN   \n",
       "cloud_yn           0.113009  0.101041 -0.006117                NaN   \n",
       "excel_yn          -0.004174  0.015215  0.036052                NaN   \n",
       "bigquery_yn        0.085367  0.068752 -0.016887                NaN   \n",
       "spark_yn           0.027039  0.052678 -0.061689                NaN   \n",
       "desc_len           0.069352  0.051559  0.104000                NaN   \n",
       "\n",
       "                   min_salary  max_salary  average_salary       age  \\\n",
       "Founded              0.192933    0.238867        0.224846  0.343754   \n",
       "Rating               0.199349    0.205112        0.209475  0.201475   \n",
       "hourly              -0.119724   -0.115050       -0.211653  0.002074   \n",
       "employer_provided         NaN         NaN             NaN       NaN   \n",
       "min_salary           1.000000    0.860206        0.941996 -0.003379   \n",
       "max_salary           0.860206    1.000000        0.971565  0.050937   \n",
       "average_salary       0.941996    0.971565        1.000000  0.026887   \n",
       "age                 -0.003379    0.050937        0.026887  1.000000   \n",
       "python_yn            0.310114    0.238494        0.288356 -0.079646   \n",
       "r_studio_yn         -0.054749   -0.074472       -0.067870 -0.030783   \n",
       "sql_yn               0.172440    0.119020        0.153751 -0.005434   \n",
       "cloud_yn             0.147328    0.127647        0.133228 -0.030447   \n",
       "excel_yn            -0.118047   -0.121973       -0.128235  0.132040   \n",
       "bigquery_yn          0.119620    0.106067        0.115885 -0.037436   \n",
       "spark_yn             0.178832    0.110433        0.146763 -0.088373   \n",
       "desc_len            -0.046759   -0.043839       -0.054522  0.176645   \n",
       "\n",
       "                   python_yn  r_studio_yn    sql_yn  cloud_yn  excel_yn  \\\n",
       "Founded             0.093107    -0.040406  0.091868  0.113009 -0.004174   \n",
       "Rating              0.033397     0.010521  0.071808  0.101041  0.015215   \n",
       "hourly             -0.158627    -0.005726 -0.108206 -0.006117  0.036052   \n",
       "employer_provided        NaN          NaN       NaN       NaN       NaN   \n",
       "min_salary          0.310114    -0.054749  0.172440  0.147328 -0.118047   \n",
       "max_salary          0.238494    -0.074472  0.119020  0.127647 -0.121973   \n",
       "average_salary      0.288356    -0.067870  0.153751  0.133228 -0.128235   \n",
       "age                -0.079646    -0.030783 -0.005434 -0.030447  0.132040   \n",
       "python_yn           1.000000     0.036095  0.336725  0.212338 -0.056046   \n",
       "r_studio_yn         0.036095     1.000000  0.052914  0.022257  0.050856   \n",
       "sql_yn              0.336725     0.052914  1.000000  0.187735  0.002598   \n",
       "cloud_yn            0.212338     0.022257  0.187735  1.000000 -0.062167   \n",
       "excel_yn           -0.056046     0.050856  0.002598 -0.062167  1.000000   \n",
       "bigquery_yn         0.085541    -0.008992  0.136888  0.034659  0.015426   \n",
       "spark_yn            0.290716     0.029983  0.189298  0.359133 -0.069810   \n",
       "desc_len           -0.043697     0.026770  0.014739  0.158398  0.225621   \n",
       "\n",
       "                   bigquery_yn  spark_yn  desc_len  \n",
       "Founded               0.085367  0.027039  0.069352  \n",
       "Rating                0.068752  0.052678  0.051559  \n",
       "hourly               -0.016887 -0.061689  0.104000  \n",
       "employer_provided          NaN       NaN       NaN  \n",
       "min_salary            0.119620  0.178832 -0.046759  \n",
       "max_salary            0.106067  0.110433 -0.043839  \n",
       "average_salary        0.115885  0.146763 -0.054522  \n",
       "age                  -0.037436 -0.088373  0.176645  \n",
       "python_yn             0.085541  0.290716 -0.043697  \n",
       "r_studio_yn          -0.008992  0.029983  0.026770  \n",
       "sql_yn                0.136888  0.189298  0.014739  \n",
       "cloud_yn              0.034659  0.359133  0.158398  \n",
       "excel_yn              0.015426 -0.069810  0.225621  \n",
       "bigquery_yn           1.000000  0.033928  0.064864  \n",
       "spark_yn              0.033928  1.000000  0.046000  \n",
       "desc_len              0.064864  0.046000  1.000000  "
      ]
     },
     "execution_count": 25,
     "metadata": {},
     "output_type": "execute_result"
    }
   ],
   "source": [
    "df.corr()"
   ]
  },
  {
   "cell_type": "code",
   "execution_count": 26,
   "metadata": {},
   "outputs": [
    {
     "data": {
      "text/html": [
       "<div>\n",
       "<style scoped>\n",
       "    .dataframe tbody tr th:only-of-type {\n",
       "        vertical-align: middle;\n",
       "    }\n",
       "\n",
       "    .dataframe tbody tr th {\n",
       "        vertical-align: top;\n",
       "    }\n",
       "\n",
       "    .dataframe thead th {\n",
       "        text-align: right;\n",
       "    }\n",
       "</style>\n",
       "<table border=\"1\" class=\"dataframe\">\n",
       "  <thead>\n",
       "    <tr style=\"text-align: right;\">\n",
       "      <th></th>\n",
       "      <th>age</th>\n",
       "      <th>Rating</th>\n",
       "      <th>average_salary</th>\n",
       "      <th>desc_len</th>\n",
       "      <th>python_yn</th>\n",
       "      <th>sql_yn</th>\n",
       "      <th>cloud_yn</th>\n",
       "    </tr>\n",
       "  </thead>\n",
       "  <tbody>\n",
       "    <tr>\n",
       "      <th>age</th>\n",
       "      <td>1.000000</td>\n",
       "      <td>0.201475</td>\n",
       "      <td>0.026887</td>\n",
       "      <td>0.176645</td>\n",
       "      <td>-0.079646</td>\n",
       "      <td>-0.005434</td>\n",
       "      <td>-0.030447</td>\n",
       "    </tr>\n",
       "    <tr>\n",
       "      <th>Rating</th>\n",
       "      <td>0.201475</td>\n",
       "      <td>1.000000</td>\n",
       "      <td>0.209475</td>\n",
       "      <td>0.051559</td>\n",
       "      <td>0.033397</td>\n",
       "      <td>0.071808</td>\n",
       "      <td>0.101041</td>\n",
       "    </tr>\n",
       "    <tr>\n",
       "      <th>average_salary</th>\n",
       "      <td>0.026887</td>\n",
       "      <td>0.209475</td>\n",
       "      <td>1.000000</td>\n",
       "      <td>-0.054522</td>\n",
       "      <td>0.288356</td>\n",
       "      <td>0.153751</td>\n",
       "      <td>0.133228</td>\n",
       "    </tr>\n",
       "    <tr>\n",
       "      <th>desc_len</th>\n",
       "      <td>0.176645</td>\n",
       "      <td>0.051559</td>\n",
       "      <td>-0.054522</td>\n",
       "      <td>1.000000</td>\n",
       "      <td>-0.043697</td>\n",
       "      <td>0.014739</td>\n",
       "      <td>0.158398</td>\n",
       "    </tr>\n",
       "    <tr>\n",
       "      <th>python_yn</th>\n",
       "      <td>-0.079646</td>\n",
       "      <td>0.033397</td>\n",
       "      <td>0.288356</td>\n",
       "      <td>-0.043697</td>\n",
       "      <td>1.000000</td>\n",
       "      <td>0.336725</td>\n",
       "      <td>0.212338</td>\n",
       "    </tr>\n",
       "    <tr>\n",
       "      <th>sql_yn</th>\n",
       "      <td>-0.005434</td>\n",
       "      <td>0.071808</td>\n",
       "      <td>0.153751</td>\n",
       "      <td>0.014739</td>\n",
       "      <td>0.336725</td>\n",
       "      <td>1.000000</td>\n",
       "      <td>0.187735</td>\n",
       "    </tr>\n",
       "    <tr>\n",
       "      <th>cloud_yn</th>\n",
       "      <td>-0.030447</td>\n",
       "      <td>0.101041</td>\n",
       "      <td>0.133228</td>\n",
       "      <td>0.158398</td>\n",
       "      <td>0.212338</td>\n",
       "      <td>0.187735</td>\n",
       "      <td>1.000000</td>\n",
       "    </tr>\n",
       "  </tbody>\n",
       "</table>\n",
       "</div>"
      ],
      "text/plain": [
       "                     age    Rating  average_salary  desc_len  python_yn  \\\n",
       "age             1.000000  0.201475        0.026887  0.176645  -0.079646   \n",
       "Rating          0.201475  1.000000        0.209475  0.051559   0.033397   \n",
       "average_salary  0.026887  0.209475        1.000000 -0.054522   0.288356   \n",
       "desc_len        0.176645  0.051559       -0.054522  1.000000  -0.043697   \n",
       "python_yn      -0.079646  0.033397        0.288356 -0.043697   1.000000   \n",
       "sql_yn         -0.005434  0.071808        0.153751  0.014739   0.336725   \n",
       "cloud_yn       -0.030447  0.101041        0.133228  0.158398   0.212338   \n",
       "\n",
       "                  sql_yn  cloud_yn  \n",
       "age            -0.005434 -0.030447  \n",
       "Rating          0.071808  0.101041  \n",
       "average_salary  0.153751  0.133228  \n",
       "desc_len        0.014739  0.158398  \n",
       "python_yn       0.336725  0.212338  \n",
       "sql_yn          1.000000  0.187735  \n",
       "cloud_yn        0.187735  1.000000  "
      ]
     },
     "execution_count": 26,
     "metadata": {},
     "output_type": "execute_result"
    }
   ],
   "source": [
    "df[['age', 'Rating', 'average_salary','desc_len','python_yn','sql_yn','cloud_yn']].corr()"
   ]
  },
  {
   "cell_type": "code",
   "execution_count": 27,
   "metadata": {},
   "outputs": [
    {
     "data": {
      "text/plain": [
       "<matplotlib.axes._subplots.AxesSubplot at 0x1b5cd7f77f0>"
      ]
     },
     "execution_count": 27,
     "metadata": {},
     "output_type": "execute_result"
    },
    {
     "data": {
      "image/png": "[encoded data removed]",
      "text/plain": [
       "<Figure size 432x288 with 2 Axes>"
      ]
     },
     "metadata": {
      "needs_background": "light"
     },
     "output_type": "display_data"
    }
   ],
   "source": [
    "cmap = sns.diverging_palette(120, 20, as_cmap=True)\n",
    "sns.heatmap(df[['age', 'Rating', 'average_salary','desc_len','python_yn','sql_yn','cloud_yn']].corr(),\n",
    "            vmax=.3, center = 0, cmap = cmap,\n",
    "           square = True, linewidth = .5, cbar_kws={'shrink':.5})"
   ]
  },
  {
   "cell_type": "markdown",
   "metadata": {},
   "source": [
    "#### Categorial Variables"
   ]
  },
  {
   "cell_type": "code",
   "execution_count": 28,
   "metadata": {},
   "outputs": [
    {
     "data": {
      "text/plain": [
       "Index(['Company Name', 'Founded', 'Industry', 'Job Description', 'Job Title',\n",
       "       'Location', 'Rating', 'Revenue', 'Salary Estimate', 'Sector', 'Size',\n",
       "       'Type of ownership', 'hourly', 'currency', 'employer_provided',\n",
       "       'min_salary', 'max_salary', 'average_salary', 'company_txt',\n",
       "       'job_region-state', 'age', 'python_yn', 'r_studio_yn', 'sql_yn',\n",
       "       'cloud_yn', 'excel_yn', 'bigquery_yn', 'spark_yn', 'job_simpl',\n",
       "       'seniority', 'desc_len'],\n",
       "      dtype='object')"
      ]
     },
     "execution_count": 28,
     "metadata": {},
     "output_type": "execute_result"
    }
   ],
   "source": [
    "df.columns"
   ]
  },
  {
   "cell_type": "code",
   "execution_count": 29,
   "metadata": {},
   "outputs": [],
   "source": [
    "df_cat = df[['Location', 'Size', 'Type of ownership', 'Industry', 'Sector',\n",
    "    'Revenue', 'company_txt', 'job_region-state','python_yn', 'r_studio_yn', 'sql_yn',\n",
    "       'cloud_yn', 'excel_yn', 'bigquery_yn', 'spark_yn', 'job_simpl',\n",
    "       'seniority']]"
   ]
  },
  {
   "cell_type": "code",
   "execution_count": 30,
   "metadata": {
    "scrolled": true
   },
   "outputs": [
    {
     "name": "stdout",
     "output_type": "stream",
     "text": [
      "graph for Location: total = 182\n"
     ]
    },
    {
     "data": {
      "image/png": "[encoded data removed]",
      "text/plain": [
       "<Figure size 432x288 with 1 Axes>"
      ]
     },
     "metadata": {
      "needs_background": "light"
     },
     "output_type": "display_data"
    },
    {
     "name": "stdout",
     "output_type": "stream",
     "text": [
      "graph for Size: total = 9\n"
     ]
    },
    {
     "data": {
      "image/png": "[encoded data removed]",
      "text/plain": [
       "<Figure size 432x288 with 1 Axes>"
      ]
     },
     "metadata": {
      "needs_background": "light"
     },
     "output_type": "display_data"
    },
    {
     "name": "stdout",
     "output_type": "stream",
     "text": [
      "graph for Type of ownership: total = 12\n"
     ]
    },
    {
     "data": {
      "image/png": "[encoded data removed]",
      "text/plain": [
       "<Figure size 432x288 with 1 Axes>"
      ]
     },
     "metadata": {
      "needs_background": "light"
     },
     "output_type": "display_data"
    },
    {
     "name": "stdout",
     "output_type": "stream",
     "text": [
      "graph for Industry: total = 64\n"
     ]
    },
    {
     "data": {
      "image/png": "[encoded data removed]",
      "text/plain": [
       "<Figure size 432x288 with 1 Axes>"
      ]
     },
     "metadata": {
      "needs_background": "light"
     },
     "output_type": "display_data"
    },
    {
     "name": "stdout",
     "output_type": "stream",
     "text": [
      "graph for Sector: total = 24\n"
     ]
    },
    {
     "data": {
      "image/png": "[encoded data removed]",
      "text/plain": [
       "<Figure size 432x288 with 1 Axes>"
      ]
     },
     "metadata": {
      "needs_background": "light"
     },
     "output_type": "display_data"
    },
    {
     "name": "stdout",
     "output_type": "stream",
     "text": [
      "graph for Revenue: total = 14\n"
     ]
    },
    {
     "data": {
      "image/png": "[encoded data removed]",
      "text/plain": [
       "<Figure size 432x288 with 1 Axes>"
      ]
     },
     "metadata": {
      "needs_background": "light"
     },
     "output_type": "display_data"
    },
    {
     "name": "stdout",
     "output_type": "stream",
     "text": [
      "graph for company_txt: total = 439\n"
     ]
    },
    {
     "data": {
      "image/png": "[encoded data removed]",
      "text/plain": [
       "<Figure size 432x288 with 1 Axes>"
      ]
     },
     "metadata": {
      "needs_background": "light"
     },
     "output_type": "display_data"
    },
    {
     "name": "stdout",
     "output_type": "stream",
     "text": [
      "graph for job_region-state: total = 71\n"
     ]
    },
    {
     "data": {
      "image/png": "[encoded data removed]",
      "text/plain": [
       "<Figure size 432x288 with 1 Axes>"
      ]
     },
     "metadata": {
      "needs_background": "light"
     },
     "output_type": "display_data"
    },
    {
     "name": "stdout",
     "output_type": "stream",
     "text": [
      "graph for python_yn: total = 2\n"
     ]
    },
    {
     "data": {
      "image/png": "[encoded data removed]",
      "text/plain": [
       "<Figure size 432x288 with 1 Axes>"
      ]
     },
     "metadata": {
      "needs_background": "light"
     },
     "output_type": "display_data"
    },
    {
     "name": "stdout",
     "output_type": "stream",
     "text": [
      "graph for r_studio_yn: total = 2\n"
     ]
    },
    {
     "data": {
      "image/png": "[encoded data removed]",
      "text/plain": [
       "<Figure size 432x288 with 1 Axes>"
      ]
     },
     "metadata": {
      "needs_background": "light"
     },
     "output_type": "display_data"
    },
    {
     "name": "stdout",
     "output_type": "stream",
     "text": [
      "graph for sql_yn: total = 2\n"
     ]
    },
    {
     "data": {
      "image/png": "[encoded data removed]",
      "text/plain": [
       "<Figure size 432x288 with 1 Axes>"
      ]
     },
     "metadata": {
      "needs_background": "light"
     },
     "output_type": "display_data"
    },
    {
     "name": "stdout",
     "output_type": "stream",
     "text": [
      "graph for cloud_yn: total = 2\n"
     ]
    },
    {
     "data": {
      "image/png": "[encoded data removed]",
      "text/plain": [
       "<Figure size 432x288 with 1 Axes>"
      ]
     },
     "metadata": {
      "needs_background": "light"
     },
     "output_type": "display_data"
    },
    {
     "name": "stdout",
     "output_type": "stream",
     "text": [
      "graph for excel_yn: total = 2\n"
     ]
    },
    {
     "data": {
      "image/png": "[encoded data removed]",
      "text/plain": [
       "<Figure size 432x288 with 1 Axes>"
      ]
     },
     "metadata": {
      "needs_background": "light"
     },
     "output_type": "display_data"
    },
    {
     "name": "stdout",
     "output_type": "stream",
     "text": [
      "graph for bigquery_yn: total = 2\n"
     ]
    },
    {
     "data": {
      "image/png": "[encoded data removed]",
      "text/plain": [
       "<Figure size 432x288 with 1 Axes>"
      ]
     },
     "metadata": {
      "needs_background": "light"
     },
     "output_type": "display_data"
    },
    {
     "name": "stdout",
     "output_type": "stream",
     "text": [
      "graph for spark_yn: total = 2\n"
     ]
    },
    {
     "data": {
      "image/png": "[encoded data removed]",
      "text/plain": [
       "<Figure size 432x288 with 1 Axes>"
      ]
     },
     "metadata": {
      "needs_background": "light"
     },
     "output_type": "display_data"
    },
    {
     "name": "stdout",
     "output_type": "stream",
     "text": [
      "graph for job_simpl: total = 7\n"
     ]
    },
    {
     "data": {
      "image/png": "[encoded data removed]",
      "text/plain": [
       "<Figure size 432x288 with 1 Axes>"
      ]
     },
     "metadata": {
      "needs_background": "light"
     },
     "output_type": "display_data"
    },
    {
     "name": "stdout",
     "output_type": "stream",
     "text": [
      "graph for seniority: total = 3\n"
     ]
    },
    {
     "data": {
      "image/png": "[encoded data removed]",
      "text/plain": [
       "<Figure size 432x288 with 1 Axes>"
      ]
     },
     "metadata": {
      "needs_background": "light"
     },
     "output_type": "display_data"
    }
   ],
   "source": [
    "for i in df_cat.columns:\n",
    "    cat_num = df_cat[i].value_counts()\n",
    "    print(\"graph for %s: total = %d\" % (i, len(cat_num)))\n",
    "    chart = sns.barplot(x= cat_num.index, y=cat_num)\n",
    "    chart.set_xticklabels(chart.get_xticklabels(), rotation = 90)\n",
    "    plt.show()"
   ]
  },
  {
   "cell_type": "code",
   "execution_count": 31,
   "metadata": {},
   "outputs": [
    {
     "name": "stdout",
     "output_type": "stream",
     "text": [
      "graph for Location: total = 20\n"
     ]
    },
    {
     "data": {
      "image/png": "[encoded data removed]",
      "text/plain": [
       "<Figure size 432x288 with 1 Axes>"
      ]
     },
     "metadata": {
      "needs_background": "light"
     },
     "output_type": "display_data"
    },
    {
     "name": "stdout",
     "output_type": "stream",
     "text": [
      "graph for company_txt: total = 20\n"
     ]
    },
    {
     "data": {
      "image/png": "[encoded data removed]",
      "text/plain": [
       "<Figure size 432x288 with 1 Axes>"
      ]
     },
     "metadata": {
      "needs_background": "light"
     },
     "output_type": "display_data"
    }
   ],
   "source": [
    "for i in df_cat[['Location','company_txt']].columns:\n",
    "    cat_num = df_cat[i].value_counts()[:20]\n",
    "    print(\"graph for %s: total = %d\" % (i, len(cat_num)))\n",
    "    chart = sns.barplot(x= cat_num.index, y=cat_num)\n",
    "    chart.set_xticklabels(chart.get_xticklabels(), rotation = 90)\n",
    "    plt.show()"
   ]
  },
  {
   "cell_type": "markdown",
   "metadata": {},
   "source": [
    "###  Salary vs. various features using pivot tables"
   ]
  },
  {
   "cell_type": "code",
   "execution_count": 32,
   "metadata": {},
   "outputs": [
    {
     "data": {
      "text/plain": [
       "Index(['Company Name', 'Founded', 'Industry', 'Job Description', 'Job Title',\n",
       "       'Location', 'Rating', 'Revenue', 'Salary Estimate', 'Sector', 'Size',\n",
       "       'Type of ownership', 'hourly', 'currency', 'employer_provided',\n",
       "       'min_salary', 'max_salary', 'average_salary', 'company_txt',\n",
       "       'job_region-state', 'age', 'python_yn', 'r_studio_yn', 'sql_yn',\n",
       "       'cloud_yn', 'excel_yn', 'bigquery_yn', 'spark_yn', 'job_simpl',\n",
       "       'seniority', 'desc_len'],\n",
       "      dtype='object')"
      ]
     },
     "execution_count": 32,
     "metadata": {},
     "output_type": "execute_result"
    }
   ],
   "source": [
    "df.columns"
   ]
  },
  {
   "cell_type": "code",
   "execution_count": 33,
   "metadata": {},
   "outputs": [
    {
     "data": {
      "text/html": [
       "<div>\n",
       "<style scoped>\n",
       "    .dataframe tbody tr th:only-of-type {\n",
       "        vertical-align: middle;\n",
       "    }\n",
       "\n",
       "    .dataframe tbody tr th {\n",
       "        vertical-align: top;\n",
       "    }\n",
       "\n",
       "    .dataframe thead th {\n",
       "        text-align: right;\n",
       "    }\n",
       "</style>\n",
       "<table border=\"1\" class=\"dataframe\">\n",
       "  <thead>\n",
       "    <tr style=\"text-align: right;\">\n",
       "      <th></th>\n",
       "      <th></th>\n",
       "      <th>average_salary</th>\n",
       "    </tr>\n",
       "    <tr>\n",
       "      <th>job_simpl</th>\n",
       "      <th>seniority</th>\n",
       "      <th></th>\n",
       "    </tr>\n",
       "  </thead>\n",
       "  <tbody>\n",
       "    <tr>\n",
       "      <th rowspan=\"2\" valign=\"top\">analyst</th>\n",
       "      <th>na</th>\n",
       "      <td>60.156977</td>\n",
       "    </tr>\n",
       "    <tr>\n",
       "      <th>senior</th>\n",
       "      <td>83.000000</td>\n",
       "    </tr>\n",
       "    <tr>\n",
       "      <th rowspan=\"2\" valign=\"top\">data engineer</th>\n",
       "      <th>na</th>\n",
       "      <td>90.851852</td>\n",
       "    </tr>\n",
       "    <tr>\n",
       "      <th>senior</th>\n",
       "      <td>103.714286</td>\n",
       "    </tr>\n",
       "    <tr>\n",
       "      <th rowspan=\"3\" valign=\"top\">data scientist</th>\n",
       "      <th>jr</th>\n",
       "      <td>53.000000</td>\n",
       "    </tr>\n",
       "    <tr>\n",
       "      <th>na</th>\n",
       "      <td>96.357456</td>\n",
       "    </tr>\n",
       "    <tr>\n",
       "      <th>senior</th>\n",
       "      <td>123.126016</td>\n",
       "    </tr>\n",
       "    <tr>\n",
       "      <th>director</th>\n",
       "      <th>na</th>\n",
       "      <td>142.666667</td>\n",
       "    </tr>\n",
       "    <tr>\n",
       "      <th rowspan=\"2\" valign=\"top\">manager</th>\n",
       "      <th>na</th>\n",
       "      <td>89.600000</td>\n",
       "    </tr>\n",
       "    <tr>\n",
       "      <th>senior</th>\n",
       "      <td>50.500000</td>\n",
       "    </tr>\n",
       "    <tr>\n",
       "      <th>mle</th>\n",
       "      <th>na</th>\n",
       "      <td>85.166667</td>\n",
       "    </tr>\n",
       "    <tr>\n",
       "      <th rowspan=\"3\" valign=\"top\">na</th>\n",
       "      <th>jr</th>\n",
       "      <td>72.500000</td>\n",
       "    </tr>\n",
       "    <tr>\n",
       "      <th>na</th>\n",
       "      <td>79.050000</td>\n",
       "    </tr>\n",
       "    <tr>\n",
       "      <th>senior</th>\n",
       "      <td>97.852941</td>\n",
       "    </tr>\n",
       "  </tbody>\n",
       "</table>\n",
       "</div>"
      ],
      "text/plain": [
       "                          average_salary\n",
       "job_simpl      seniority                \n",
       "analyst        na              60.156977\n",
       "               senior          83.000000\n",
       "data engineer  na              90.851852\n",
       "               senior         103.714286\n",
       "data scientist jr              53.000000\n",
       "               na              96.357456\n",
       "               senior         123.126016\n",
       "director       na             142.666667\n",
       "manager        na              89.600000\n",
       "               senior          50.500000\n",
       "mle            na              85.166667\n",
       "na             jr              72.500000\n",
       "               na              79.050000\n",
       "               senior          97.852941"
      ]
     },
     "execution_count": 33,
     "metadata": {},
     "output_type": "execute_result"
    }
   ],
   "source": [
    "pd.pivot_table(df, index =['job_simpl', 'seniority'], values = 'average_salary')"
   ]
  },
  {
   "cell_type": "code",
   "execution_count": 41,
   "metadata": {
    "scrolled": true
   },
   "outputs": [
    {
     "data": {
      "text/html": [
       "<div>\n",
       "<style scoped>\n",
       "    .dataframe tbody tr th:only-of-type {\n",
       "        vertical-align: middle;\n",
       "    }\n",
       "\n",
       "    .dataframe tbody tr th {\n",
       "        vertical-align: top;\n",
       "    }\n",
       "\n",
       "    .dataframe thead th {\n",
       "        text-align: right;\n",
       "    }\n",
       "</style>\n",
       "<table border=\"1\" class=\"dataframe\">\n",
       "  <thead>\n",
       "    <tr style=\"text-align: right;\">\n",
       "      <th></th>\n",
       "      <th></th>\n",
       "      <th>average_salary</th>\n",
       "    </tr>\n",
       "    <tr>\n",
       "      <th>job_region-state</th>\n",
       "      <th>job_simpl</th>\n",
       "      <th></th>\n",
       "    </tr>\n",
       "  </thead>\n",
       "  <tbody>\n",
       "    <tr>\n",
       "      <th rowspan=\"2\" valign=\"top\">Winnipeg</th>\n",
       "      <th>mle</th>\n",
       "      <td>2</td>\n",
       "    </tr>\n",
       "    <tr>\n",
       "      <th>data scientist</th>\n",
       "      <td>4</td>\n",
       "    </tr>\n",
       "    <tr>\n",
       "      <th>Welwyn</th>\n",
       "      <th>data scientist</th>\n",
       "      <td>2</td>\n",
       "    </tr>\n",
       "    <tr>\n",
       "      <th>Waterloo</th>\n",
       "      <th>data scientist</th>\n",
       "      <td>1</td>\n",
       "    </tr>\n",
       "    <tr>\n",
       "      <th rowspan=\"2\" valign=\"top\">Victoria</th>\n",
       "      <th>data scientist</th>\n",
       "      <td>1</td>\n",
       "    </tr>\n",
       "    <tr>\n",
       "      <th>analyst</th>\n",
       "      <td>4</td>\n",
       "    </tr>\n",
       "    <tr>\n",
       "      <th>Vernon</th>\n",
       "      <th>analyst</th>\n",
       "      <td>1</td>\n",
       "    </tr>\n",
       "    <tr>\n",
       "      <th>Venice</th>\n",
       "      <th>data scientist</th>\n",
       "      <td>1</td>\n",
       "    </tr>\n",
       "    <tr>\n",
       "      <th>Vaughan</th>\n",
       "      <th>data scientist</th>\n",
       "      <td>1</td>\n",
       "    </tr>\n",
       "    <tr>\n",
       "      <th rowspan=\"5\" valign=\"top\">Vancouver</th>\n",
       "      <th>na</th>\n",
       "      <td>6</td>\n",
       "    </tr>\n",
       "    <tr>\n",
       "      <th>mle</th>\n",
       "      <td>2</td>\n",
       "    </tr>\n",
       "    <tr>\n",
       "      <th>data scientist</th>\n",
       "      <td>27</td>\n",
       "    </tr>\n",
       "    <tr>\n",
       "      <th>data engineer</th>\n",
       "      <td>6</td>\n",
       "    </tr>\n",
       "    <tr>\n",
       "      <th>analyst</th>\n",
       "      <td>10</td>\n",
       "    </tr>\n",
       "    <tr>\n",
       "      <th rowspan=\"6\" valign=\"top\">Toronto</th>\n",
       "      <th>manager</th>\n",
       "      <td>1</td>\n",
       "    </tr>\n",
       "    <tr>\n",
       "      <th>analyst</th>\n",
       "      <td>28</td>\n",
       "    </tr>\n",
       "    <tr>\n",
       "      <th>data scientist</th>\n",
       "      <td>48</td>\n",
       "    </tr>\n",
       "    <tr>\n",
       "      <th>data engineer</th>\n",
       "      <td>11</td>\n",
       "    </tr>\n",
       "    <tr>\n",
       "      <th>mle</th>\n",
       "      <td>9</td>\n",
       "    </tr>\n",
       "    <tr>\n",
       "      <th>na</th>\n",
       "      <td>10</td>\n",
       "    </tr>\n",
       "    <tr>\n",
       "      <th>Surrey</th>\n",
       "      <th>analyst</th>\n",
       "      <td>1</td>\n",
       "    </tr>\n",
       "    <tr>\n",
       "      <th>Sioux Lookout</th>\n",
       "      <th>analyst</th>\n",
       "      <td>1</td>\n",
       "    </tr>\n",
       "    <tr>\n",
       "      <th>Saskatoon</th>\n",
       "      <th>data scientist</th>\n",
       "      <td>1</td>\n",
       "    </tr>\n",
       "    <tr>\n",
       "      <th rowspan=\"3\" valign=\"top\">Saint-Laurent</th>\n",
       "      <th>na</th>\n",
       "      <td>2</td>\n",
       "    </tr>\n",
       "    <tr>\n",
       "      <th>mle</th>\n",
       "      <td>1</td>\n",
       "    </tr>\n",
       "    <tr>\n",
       "      <th>analyst</th>\n",
       "      <td>4</td>\n",
       "    </tr>\n",
       "    <tr>\n",
       "      <th>Regina</th>\n",
       "      <th>data scientist</th>\n",
       "      <td>1</td>\n",
       "    </tr>\n",
       "    <tr>\n",
       "      <th>Quebec</th>\n",
       "      <th>data scientist</th>\n",
       "      <td>2</td>\n",
       "    </tr>\n",
       "    <tr>\n",
       "      <th>Pointe-Claire</th>\n",
       "      <th>data scientist</th>\n",
       "      <td>2</td>\n",
       "    </tr>\n",
       "    <tr>\n",
       "      <th>Ottawa</th>\n",
       "      <th>mle</th>\n",
       "      <td>1</td>\n",
       "    </tr>\n",
       "    <tr>\n",
       "      <th>...</th>\n",
       "      <th>...</th>\n",
       "      <td>...</td>\n",
       "    </tr>\n",
       "    <tr>\n",
       "      <th>KS</th>\n",
       "      <th>na</th>\n",
       "      <td>1</td>\n",
       "    </tr>\n",
       "    <tr>\n",
       "      <th rowspan=\"4\" valign=\"top\">IN</th>\n",
       "      <th>na</th>\n",
       "      <td>1</td>\n",
       "    </tr>\n",
       "    <tr>\n",
       "      <th>data scientist</th>\n",
       "      <td>1</td>\n",
       "    </tr>\n",
       "    <tr>\n",
       "      <th>data engineer</th>\n",
       "      <td>1</td>\n",
       "    </tr>\n",
       "    <tr>\n",
       "      <th>analyst</th>\n",
       "      <td>3</td>\n",
       "    </tr>\n",
       "    <tr>\n",
       "      <th rowspan=\"2\" valign=\"top\">IL</th>\n",
       "      <th>data scientist</th>\n",
       "      <td>5</td>\n",
       "    </tr>\n",
       "    <tr>\n",
       "      <th>analyst</th>\n",
       "      <td>1</td>\n",
       "    </tr>\n",
       "    <tr>\n",
       "      <th rowspan=\"2\" valign=\"top\">ID</th>\n",
       "      <th>na</th>\n",
       "      <td>1</td>\n",
       "    </tr>\n",
       "    <tr>\n",
       "      <th>data engineer</th>\n",
       "      <td>1</td>\n",
       "    </tr>\n",
       "    <tr>\n",
       "      <th rowspan=\"2\" valign=\"top\">GA</th>\n",
       "      <th>data scientist</th>\n",
       "      <td>8</td>\n",
       "    </tr>\n",
       "    <tr>\n",
       "      <th>data engineer</th>\n",
       "      <td>2</td>\n",
       "    </tr>\n",
       "    <tr>\n",
       "      <th rowspan=\"4\" valign=\"top\">FL</th>\n",
       "      <th>na</th>\n",
       "      <td>2</td>\n",
       "    </tr>\n",
       "    <tr>\n",
       "      <th>data scientist</th>\n",
       "      <td>6</td>\n",
       "    </tr>\n",
       "    <tr>\n",
       "      <th>data engineer</th>\n",
       "      <td>1</td>\n",
       "    </tr>\n",
       "    <tr>\n",
       "      <th>analyst</th>\n",
       "      <td>2</td>\n",
       "    </tr>\n",
       "    <tr>\n",
       "      <th rowspan=\"3\" valign=\"top\">DC</th>\n",
       "      <th>data scientist</th>\n",
       "      <td>11</td>\n",
       "    </tr>\n",
       "    <tr>\n",
       "      <th>data engineer</th>\n",
       "      <td>1</td>\n",
       "    </tr>\n",
       "    <tr>\n",
       "      <th>analyst</th>\n",
       "      <td>1</td>\n",
       "    </tr>\n",
       "    <tr>\n",
       "      <th rowspan=\"2\" valign=\"top\">CT</th>\n",
       "      <th>na</th>\n",
       "      <td>3</td>\n",
       "    </tr>\n",
       "    <tr>\n",
       "      <th>data scientist</th>\n",
       "      <td>1</td>\n",
       "    </tr>\n",
       "    <tr>\n",
       "      <th rowspan=\"2\" valign=\"top\">CO</th>\n",
       "      <th>na</th>\n",
       "      <td>2</td>\n",
       "    </tr>\n",
       "    <tr>\n",
       "      <th>data scientist</th>\n",
       "      <td>6</td>\n",
       "    </tr>\n",
       "    <tr>\n",
       "      <th rowspan=\"6\" valign=\"top\">CA</th>\n",
       "      <th>director</th>\n",
       "      <td>1</td>\n",
       "    </tr>\n",
       "    <tr>\n",
       "      <th>data scientist</th>\n",
       "      <td>40</td>\n",
       "    </tr>\n",
       "    <tr>\n",
       "      <th>analyst</th>\n",
       "      <td>1</td>\n",
       "    </tr>\n",
       "    <tr>\n",
       "      <th>mle</th>\n",
       "      <td>2</td>\n",
       "    </tr>\n",
       "    <tr>\n",
       "      <th>na</th>\n",
       "      <td>18</td>\n",
       "    </tr>\n",
       "    <tr>\n",
       "      <th>data engineer</th>\n",
       "      <td>3</td>\n",
       "    </tr>\n",
       "    <tr>\n",
       "      <th>AZ</th>\n",
       "      <th>data scientist</th>\n",
       "      <td>2</td>\n",
       "    </tr>\n",
       "    <tr>\n",
       "      <th>AL</th>\n",
       "      <th>na</th>\n",
       "      <td>1</td>\n",
       "    </tr>\n",
       "  </tbody>\n",
       "</table>\n",
       "<p>161 rows × 1 columns</p>\n",
       "</div>"
      ],
      "text/plain": [
       "                                 average_salary\n",
       "job_region-state job_simpl                     \n",
       "Winnipeg         mle                          2\n",
       "                 data scientist               4\n",
       "Welwyn           data scientist               2\n",
       "Waterloo         data scientist               1\n",
       "Victoria         data scientist               1\n",
       "                 analyst                      4\n",
       "Vernon           analyst                      1\n",
       "Venice           data scientist               1\n",
       "Vaughan          data scientist               1\n",
       "Vancouver        na                           6\n",
       "                 mle                          2\n",
       "                 data scientist              27\n",
       "                 data engineer                6\n",
       "                 analyst                     10\n",
       "Toronto          manager                      1\n",
       "                 analyst                     28\n",
       "                 data scientist              48\n",
       "                 data engineer               11\n",
       "                 mle                          9\n",
       "                 na                          10\n",
       "Surrey           analyst                      1\n",
       "Sioux Lookout    analyst                      1\n",
       "Saskatoon        data scientist               1\n",
       "Saint-Laurent    na                           2\n",
       "                 mle                          1\n",
       "                 analyst                      4\n",
       "Regina           data scientist               1\n",
       "Quebec           data scientist               2\n",
       "Pointe-Claire    data scientist               2\n",
       "Ottawa           mle                          1\n",
       "...                                         ...\n",
       " KS              na                           1\n",
       " IN              na                           1\n",
       "                 data scientist               1\n",
       "                 data engineer                1\n",
       "                 analyst                      3\n",
       " IL              data scientist               5\n",
       "                 analyst                      1\n",
       " ID              na                           1\n",
       "                 data engineer                1\n",
       " GA              data scientist               8\n",
       "                 data engineer                2\n",
       " FL              na                           2\n",
       "                 data scientist               6\n",
       "                 data engineer                1\n",
       "                 analyst                      2\n",
       " DC              data scientist              11\n",
       "                 data engineer                1\n",
       "                 analyst                      1\n",
       " CT              na                           3\n",
       "                 data scientist               1\n",
       " CO              na                           2\n",
       "                 data scientist               6\n",
       " CA              director                     1\n",
       "                 data scientist              40\n",
       "                 analyst                      1\n",
       "                 mle                          2\n",
       "                 na                          18\n",
       "                 data engineer                3\n",
       " AZ              data scientist               2\n",
       " AL              na                           1\n",
       "\n",
       "[161 rows x 1 columns]"
      ]
     },
     "execution_count": 41,
     "metadata": {},
     "output_type": "execute_result"
    }
   ],
   "source": [
    "pd.pivot_table(df, index =['job_region-state', 'job_simpl'], values = 'average_salary', aggfunc = 'count').sort_values('job_region-state', ascending = False)"
   ]
  },
  {
   "cell_type": "code",
   "execution_count": 43,
   "metadata": {
    "scrolled": true
   },
   "outputs": [
    {
     "data": {
      "text/html": [
       "<div>\n",
       "<style scoped>\n",
       "    .dataframe tbody tr th:only-of-type {\n",
       "        vertical-align: middle;\n",
       "    }\n",
       "\n",
       "    .dataframe tbody tr th {\n",
       "        vertical-align: top;\n",
       "    }\n",
       "\n",
       "    .dataframe thead th {\n",
       "        text-align: right;\n",
       "    }\n",
       "</style>\n",
       "<table border=\"1\" class=\"dataframe\">\n",
       "  <thead>\n",
       "    <tr style=\"text-align: right;\">\n",
       "      <th></th>\n",
       "      <th>average_salary</th>\n",
       "    </tr>\n",
       "    <tr>\n",
       "      <th>job_region-state</th>\n",
       "      <th></th>\n",
       "    </tr>\n",
       "  </thead>\n",
       "  <tbody>\n",
       "    <tr>\n",
       "      <th>CA</th>\n",
       "      <td>147.475000</td>\n",
       "    </tr>\n",
       "    <tr>\n",
       "      <th>NY</th>\n",
       "      <td>140.705882</td>\n",
       "    </tr>\n",
       "    <tr>\n",
       "      <th>WA</th>\n",
       "      <td>139.000000</td>\n",
       "    </tr>\n",
       "    <tr>\n",
       "      <th>NJ</th>\n",
       "      <td>124.800000</td>\n",
       "    </tr>\n",
       "    <tr>\n",
       "      <th>MA</th>\n",
       "      <td>123.208333</td>\n",
       "    </tr>\n",
       "    <tr>\n",
       "      <th>IL</th>\n",
       "      <td>120.000000</td>\n",
       "    </tr>\n",
       "    <tr>\n",
       "      <th>Cochin</th>\n",
       "      <td>118.000000</td>\n",
       "    </tr>\n",
       "    <tr>\n",
       "      <th>VA</th>\n",
       "      <td>116.676471</td>\n",
       "    </tr>\n",
       "    <tr>\n",
       "      <th>Venice</th>\n",
       "      <td>116.000000</td>\n",
       "    </tr>\n",
       "    <tr>\n",
       "      <th>GA</th>\n",
       "      <td>112.125000</td>\n",
       "    </tr>\n",
       "    <tr>\n",
       "      <th>FL</th>\n",
       "      <td>109.416667</td>\n",
       "    </tr>\n",
       "    <tr>\n",
       "      <th>WI</th>\n",
       "      <td>108.333333</td>\n",
       "    </tr>\n",
       "    <tr>\n",
       "      <th>MD</th>\n",
       "      <td>107.500000</td>\n",
       "    </tr>\n",
       "    <tr>\n",
       "      <th>DC</th>\n",
       "      <td>107.136364</td>\n",
       "    </tr>\n",
       "    <tr>\n",
       "      <th>Victoria</th>\n",
       "      <td>107.000000</td>\n",
       "    </tr>\n",
       "    <tr>\n",
       "      <th>OH</th>\n",
       "      <td>106.500000</td>\n",
       "    </tr>\n",
       "    <tr>\n",
       "      <th>AZ</th>\n",
       "      <td>104.500000</td>\n",
       "    </tr>\n",
       "    <tr>\n",
       "      <th>Vancouver</th>\n",
       "      <td>103.537037</td>\n",
       "    </tr>\n",
       "    <tr>\n",
       "      <th>PA</th>\n",
       "      <td>102.833333</td>\n",
       "    </tr>\n",
       "    <tr>\n",
       "      <th>TN</th>\n",
       "      <td>102.500000</td>\n",
       "    </tr>\n",
       "    <tr>\n",
       "      <th>Welwyn</th>\n",
       "      <td>100.000000</td>\n",
       "    </tr>\n",
       "    <tr>\n",
       "      <th>Mississauga</th>\n",
       "      <td>99.833333</td>\n",
       "    </tr>\n",
       "    <tr>\n",
       "      <th>UT</th>\n",
       "      <td>99.437500</td>\n",
       "    </tr>\n",
       "    <tr>\n",
       "      <th>Oakville</th>\n",
       "      <td>98.833333</td>\n",
       "    </tr>\n",
       "    <tr>\n",
       "      <th>MO</th>\n",
       "      <td>97.100000</td>\n",
       "    </tr>\n",
       "    <tr>\n",
       "      <th>CO</th>\n",
       "      <td>97.083333</td>\n",
       "    </tr>\n",
       "    <tr>\n",
       "      <th>TX</th>\n",
       "      <td>96.666667</td>\n",
       "    </tr>\n",
       "    <tr>\n",
       "      <th>London</th>\n",
       "      <td>94.500000</td>\n",
       "    </tr>\n",
       "    <tr>\n",
       "      <th>KY</th>\n",
       "      <td>94.000000</td>\n",
       "    </tr>\n",
       "    <tr>\n",
       "      <th>Ottawa</th>\n",
       "      <td>93.000000</td>\n",
       "    </tr>\n",
       "    <tr>\n",
       "      <th>Toronto</th>\n",
       "      <td>92.500000</td>\n",
       "    </tr>\n",
       "    <tr>\n",
       "      <th>NM</th>\n",
       "      <td>90.000000</td>\n",
       "    </tr>\n",
       "    <tr>\n",
       "      <th>NC</th>\n",
       "      <td>89.000000</td>\n",
       "    </tr>\n",
       "    <tr>\n",
       "      <th>Edmonton</th>\n",
       "      <td>88.875000</td>\n",
       "    </tr>\n",
       "    <tr>\n",
       "      <th>Vaughan</th>\n",
       "      <td>87.500000</td>\n",
       "    </tr>\n",
       "    <tr>\n",
       "      <th>CT</th>\n",
       "      <td>86.500000</td>\n",
       "    </tr>\n",
       "    <tr>\n",
       "      <th>Markham</th>\n",
       "      <td>85.500000</td>\n",
       "    </tr>\n",
       "    <tr>\n",
       "      <th>ME</th>\n",
       "      <td>85.250000</td>\n",
       "    </tr>\n",
       "    <tr>\n",
       "      <th>Regina</th>\n",
       "      <td>85.000000</td>\n",
       "    </tr>\n",
       "    <tr>\n",
       "      <th>Calgary</th>\n",
       "      <td>84.416667</td>\n",
       "    </tr>\n",
       "    <tr>\n",
       "      <th>North York</th>\n",
       "      <td>84.000000</td>\n",
       "    </tr>\n",
       "    <tr>\n",
       "      <th>Montreal</th>\n",
       "      <td>80.340909</td>\n",
       "    </tr>\n",
       "    <tr>\n",
       "      <th>Burnaby</th>\n",
       "      <td>80.000000</td>\n",
       "    </tr>\n",
       "    <tr>\n",
       "      <th>Brampton</th>\n",
       "      <td>79.166667</td>\n",
       "    </tr>\n",
       "    <tr>\n",
       "      <th>Quebec</th>\n",
       "      <td>77.000000</td>\n",
       "    </tr>\n",
       "    <tr>\n",
       "      <th>Pointe-Claire</th>\n",
       "      <td>76.500000</td>\n",
       "    </tr>\n",
       "    <tr>\n",
       "      <th>Moncton</th>\n",
       "      <td>76.500000</td>\n",
       "    </tr>\n",
       "    <tr>\n",
       "      <th>Saskatoon</th>\n",
       "      <td>74.500000</td>\n",
       "    </tr>\n",
       "    <tr>\n",
       "      <th>Winnipeg</th>\n",
       "      <td>69.000000</td>\n",
       "    </tr>\n",
       "    <tr>\n",
       "      <th>Waterloo</th>\n",
       "      <td>66.000000</td>\n",
       "    </tr>\n",
       "    <tr>\n",
       "      <th>Burlington</th>\n",
       "      <td>62.500000</td>\n",
       "    </tr>\n",
       "    <tr>\n",
       "      <th>IN</th>\n",
       "      <td>61.500000</td>\n",
       "    </tr>\n",
       "    <tr>\n",
       "      <th>Dartmouth</th>\n",
       "      <td>51.500000</td>\n",
       "    </tr>\n",
       "  </tbody>\n",
       "</table>\n",
       "</div>"
      ],
      "text/plain": [
       "                  average_salary\n",
       "job_region-state                \n",
       " CA                   147.475000\n",
       " NY                   140.705882\n",
       " WA                   139.000000\n",
       " NJ                   124.800000\n",
       " MA                   123.208333\n",
       " IL                   120.000000\n",
       "Cochin                118.000000\n",
       " VA                   116.676471\n",
       "Venice                116.000000\n",
       " GA                   112.125000\n",
       " FL                   109.416667\n",
       " WI                   108.333333\n",
       " MD                   107.500000\n",
       " DC                   107.136364\n",
       "Victoria              107.000000\n",
       " OH                   106.500000\n",
       " AZ                   104.500000\n",
       "Vancouver             103.537037\n",
       " PA                   102.833333\n",
       " TN                   102.500000\n",
       "Welwyn                100.000000\n",
       "Mississauga            99.833333\n",
       " UT                    99.437500\n",
       "Oakville               98.833333\n",
       " MO                    97.100000\n",
       " CO                    97.083333\n",
       " TX                    96.666667\n",
       "London                 94.500000\n",
       " KY                    94.000000\n",
       "Ottawa                 93.000000\n",
       "Toronto                92.500000\n",
       " NM                    90.000000\n",
       " NC                    89.000000\n",
       "Edmonton               88.875000\n",
       "Vaughan                87.500000\n",
       " CT                    86.500000\n",
       "Markham                85.500000\n",
       " ME                    85.250000\n",
       "Regina                 85.000000\n",
       "Calgary                84.416667\n",
       "North York             84.000000\n",
       "Montreal               80.340909\n",
       "Burnaby                80.000000\n",
       "Brampton               79.166667\n",
       "Quebec                 77.000000\n",
       "Pointe-Claire          76.500000\n",
       "Moncton                76.500000\n",
       "Saskatoon              74.500000\n",
       "Winnipeg               69.000000\n",
       "Waterloo               66.000000\n",
       "Burlington             62.500000\n",
       " IN                    61.500000\n",
       "Dartmouth              51.500000"
      ]
     },
     "execution_count": 43,
     "metadata": {},
     "output_type": "execute_result"
    }
   ],
   "source": [
    "pd.pivot_table(df[df.job_simpl == 'data scientist'], index =['job_region-state'], values = 'average_salary').sort_values('average_salary', ascending = False)"
   ]
  },
  {
   "cell_type": "code",
   "execution_count": 44,
   "metadata": {},
   "outputs": [
    {
     "data": {
      "text/plain": [
       "Index(['Company Name', 'Founded', 'Industry', 'Job Description', 'Job Title',\n",
       "       'Location', 'Rating', 'Revenue', 'Salary Estimate', 'Sector', 'Size',\n",
       "       'Type of ownership', 'hourly', 'currency', 'employer_provided',\n",
       "       'min_salary', 'max_salary', 'average_salary', 'company_txt',\n",
       "       'job_region-state', 'age', 'python_yn', 'r_studio_yn', 'sql_yn',\n",
       "       'cloud_yn', 'excel_yn', 'bigquery_yn', 'spark_yn', 'job_simpl',\n",
       "       'seniority', 'desc_len'],\n",
       "      dtype='object')"
      ]
     },
     "execution_count": 44,
     "metadata": {},
     "output_type": "execute_result"
    }
   ],
   "source": [
    "df.columns"
   ]
  },
  {
   "cell_type": "code",
   "execution_count": 45,
   "metadata": {},
   "outputs": [],
   "source": [
    "# salary X rating, industry, sector, revenue, country, \n",
    "#hourly, employer provided, python, r, sql, cloud, excel, \n",
    "#bigquery, spark, desc_len, type of ownership"
   ]
  },
  {
   "cell_type": "code",
   "execution_count": 50,
   "metadata": {},
   "outputs": [],
   "source": [
    "df_pivots = df[['Industry', 'Revenue', 'Rating', 'Sector', 'Size','Type of ownership', \n",
    "               'hourly', 'currency','employer_provided', 'job_region-state', \n",
    "                'python_yn','r_studio_yn','sql_yn','excel_yn','bigquery_yn', \n",
    "                'spark_yn', 'cloud_yn', 'average_salary']]"
   ]
  },
  {
   "cell_type": "code",
   "execution_count": 53,
   "metadata": {
    "scrolled": false
   },
   "outputs": [
    {
     "name": "stdout",
     "output_type": "stream",
     "text": [
      "Industry\n",
      "                                         average_salary\n",
      "Industry                                               \n",
      "Transportation Equipment Manufacturing       138.250000\n",
      "Wholesale                                    126.666667\n",
      "Investment Banking & Asset Management        118.458333\n",
      "Metal & Mineral Manufacturing                115.000000\n",
      "Commercial Equipment Rental                  115.000000\n",
      "Financial Transaction Processing             114.500000\n",
      "Education Training Services                  113.800000\n",
      "Enterprise Software & Network Solutions      111.815789\n",
      "Internet                                     111.144737\n",
      "Municipal Governments                        109.500000\n",
      "Advertising & Marketing                      108.475000\n",
      "Publishing                                   105.666667\n",
      "Aerospace & Defense                          105.395349\n",
      "Computer Hardware & Software                 104.301887\n",
      "Other Retail Stores                          103.000000\n",
      "Accounting                                   102.800000\n",
      "Utilities                                    102.375000\n",
      "Consulting                                   101.037037\n",
      "Financial Analytics & Research               101.000000\n",
      "Logistics & Supply Chain                      98.666667\n",
      "Health, Beauty, & Fitness                     98.375000\n",
      "Lending                                       97.833333\n",
      "Consumer Products Manufacturing               96.500000\n",
      "Architectural & Engineering Services          96.500000\n",
      "Insurance Agencies & Brokerages               95.200000\n",
      "Video Games                                   95.150000\n",
      "Biotech & Pharmaceuticals                     94.630000\n",
      "IT Services                                   93.596774\n",
      "Insurance Carriers                            92.178571\n",
      "Fast-Food & Quick-Service Restaurants         91.000000\n",
      "...                                                 ...\n",
      "Federal Agencies                              86.346154\n",
      "Rail                                          86.333333\n",
      "Banks & Credit Unions                         86.181818\n",
      "Self-Storage Services                         86.000000\n",
      "Social Assistance                             84.666667\n",
      "Chemical Manufacturing                        82.875000\n",
      "Real Estate                                   82.375000\n",
      "Building & Personnel Services                 81.500000\n",
      "Shipping                                      81.000000\n",
      "Hotels, Motels, & Resorts                     80.500000\n",
      "Industrial Manufacturing                      80.250000\n",
      "Vehicle Dealers                               78.500000\n",
      "Health Care Services & Hospitals              78.277778\n",
      "Colleges & Universities                       76.700000\n",
      "Cable, Internet & Telephone Providers         76.500000\n",
      "-1                                            73.313333\n",
      "Research & Development                        73.285714\n",
      "Staffing & Outsourcing                        73.250000\n",
      "Membership Organizations                      72.750000\n",
      "Electrical & Electronic Manufacturing         71.666667\n",
      "Audiovisual                                   69.000000\n",
      "Health Care Products Manufacturing            67.833333\n",
      "Miscellaneous Manufacturing                   67.500000\n",
      "Home Furniture & Housewares Stores            64.333333\n",
      "Transportation Management                     61.500000\n",
      "Express Delivery Services                     59.000000\n",
      "Bus Transportation Services                   55.000000\n",
      "Department, Clothing, & Shoe Stores           53.416667\n",
      "Grocery Stores & Supermarkets                 48.000000\n",
      "Food & Beverage Manufacturing                 47.000000\n",
      "\n",
      "[64 rows x 1 columns]\n",
      "Revenue\n",
      "                                  average_salary\n",
      "Revenue                                         \n",
      "$1 to $5 million (USD)                108.000000\n",
      "$10+ billion (USD)                    102.708738\n",
      "Unknown / Non-Applicable              100.445714\n",
      "$10 to $25 million (USD)               96.607143\n",
      "$100 to $500 million (USD)             94.873418\n",
      "$5 to $10 billion (USD)                93.724138\n",
      "$25 to $50 million (USD)               88.687500\n",
      "$50 to $100 million (USD)              88.597222\n",
      "$500 million to $1 billion (USD)       88.379310\n",
      "$2 to $5 billion (USD)                 86.827586\n",
      "$1 to $2 billion (USD)                 86.093750\n",
      "$5 to $10 million (USD)                85.750000\n",
      "Less than $1 million (USD)             73.800000\n",
      "-1                                     70.516129\n",
      "Rating\n",
      "        average_salary\n",
      "Rating                \n",
      " 4.3        108.195652\n",
      " 4.8        106.916667\n",
      " 3.9        105.405660\n",
      " 4.2        105.333333\n",
      " 3.8        104.987179\n",
      " 4.7        101.250000\n",
      " 2.2        100.000000\n",
      " 4.1         99.590909\n",
      " 4.9         99.500000\n",
      " 3.6         98.805556\n",
      " 4.5         97.733333\n",
      " 4.6         96.261905\n",
      " 4.0         95.000000\n",
      " 4.4         94.870370\n",
      " 3.5         93.914894\n",
      " 3.1         90.458333\n",
      " 3.7         90.255319\n",
      " 2.8         90.000000\n",
      " 3.4         89.568182\n",
      " 3.3         88.727273\n",
      " 2.4         85.500000\n",
      " 2.7         79.611111\n",
      " 3.2         78.583333\n",
      " 3.0         78.500000\n",
      " 2.0         77.500000\n",
      " 5.0         75.294118\n",
      "-1.0         73.829268\n",
      " 2.5         67.500000\n",
      " 2.9         66.785714\n",
      " 1.8         58.500000\n",
      " 1.0         54.000000\n",
      " 2.6         51.625000\n",
      "Sector\n",
      "                                   average_salary\n",
      "Sector                                           \n",
      "Information Technology                 105.637500\n",
      "Aerospace & Defense                    105.395349\n",
      "Accounting & Legal                     102.800000\n",
      "Finance                                102.250000\n",
      "Media                                   99.093750\n",
      "Education                               95.250000\n",
      "Biotech & Pharmaceuticals               94.630000\n",
      "Consumer Services                       94.250000\n",
      "Oil, Gas, Energy & Utilities            94.038462\n",
      "Insurance                               92.636364\n",
      "Business Services                       91.686170\n",
      "Restaurants, Bars & Food Services       91.000000\n",
      "Mining & Metals                         90.833333\n",
      "Government                              89.433333\n",
      "Manufacturing                           86.096154\n",
      "Telecommunications                      85.083333\n",
      "Non-Profit                              84.666667\n",
      "Transportation & Logistics              84.550000\n",
      "Real Estate                             82.375000\n",
      "Health Care                             78.277778\n",
      "-1                                      73.313333\n",
      "Arts, Entertainment & Recreation        69.000000\n",
      "Travel & Tourism                        67.750000\n",
      "Retail                                  65.076923\n",
      "Size\n",
      "                         average_salary\n",
      "Size                                   \n",
      "201 to 500 Employees          99.287879\n",
      "51 to 200 Employees           98.633333\n",
      "10000+ Employees              96.980892\n",
      "1001 to 5000 Employees        96.366337\n",
      "5001 to 10000 Employees       92.989796\n",
      "501 to 1000 Employees         88.592308\n",
      "1 to 50 Employees             80.346154\n",
      "Unknown                       76.678571\n",
      "-1                            70.516129\n",
      "Type of ownership\n",
      "                                average_salary\n",
      "Type of ownership                             \n",
      "Other Organization                  103.142857\n",
      "Company - Public                     97.256281\n",
      "Company - Private                    95.551887\n",
      "Subsidiary or Business Segment       91.875000\n",
      "Unknown                              88.214286\n",
      "Private Practice / Firm              86.500000\n",
      "Nonprofit Organization               85.500000\n",
      "Government                           82.769231\n",
      "College / University                 76.700000\n",
      "Hospital                             76.115385\n",
      "-1                                   70.516129\n",
      "Contract                             65.000000\n",
      "hourly\n",
      "        average_salary\n",
      "hourly                \n",
      "0            94.038402\n",
      "1            28.428571\n",
      "currency\n",
      "          average_salary\n",
      "currency                \n",
      "US            105.889728\n",
      "CAD            80.637615\n",
      "employer_provided\n",
      "                   average_salary\n",
      "employer_provided                \n",
      "0                       93.340426\n",
      "job_region-state\n",
      "                  average_salary\n",
      "job_region-state                \n",
      " MN                   138.833333\n",
      " NY                   131.809524\n",
      " CA                   131.130769\n",
      " WA                   125.000000\n",
      "Venice                116.000000\n",
      " MA                   112.218750\n",
      " NJ                   112.200000\n",
      " IL                   109.666667\n",
      " GA                   109.550000\n",
      " VA                   107.592593\n",
      " MD                   105.140625\n",
      " DC                   104.884615\n",
      " AZ                   104.500000\n",
      "Welwyn                100.000000\n",
      " MO                    99.166667\n",
      "Oakville               97.166667\n",
      " FL                    96.090909\n",
      " PA                    95.777778\n",
      " ID                    95.500000\n",
      " UT                    94.083333\n",
      "Vancouver              94.019608\n",
      " TX                    91.750000\n",
      " CO                    90.062500\n",
      "Edmonton               89.687500\n",
      "Cochin                 89.000000\n",
      " CT                    88.500000\n",
      "Vaughan                87.500000\n",
      "Mississauga            86.142857\n",
      "Ottawa                 85.433333\n",
      " ME                    85.250000\n",
      "...                          ...\n",
      "Moncton                76.500000\n",
      "Pointe-Claire          76.500000\n",
      "Victoria               75.300000\n",
      "Saskatoon              74.500000\n",
      "London                 74.500000\n",
      " NM                    74.375000\n",
      "Guelph                 72.500000\n",
      " NC                    71.750000\n",
      " OH                    70.750000\n",
      "Surrey                 70.000000\n",
      "Montreal               69.611111\n",
      " IN                    66.916667\n",
      "Waterloo               66.000000\n",
      "Laval                  63.250000\n",
      "Burlington             62.500000\n",
      " AL                    62.000000\n",
      "Fort St. John          62.000000\n",
      " SC                    62.000000\n",
      "Winnipeg               60.333333\n",
      "Sioux Lookout          60.000000\n",
      "Bedford                59.500000\n",
      "Halifax                59.166667\n",
      " TN                    54.000000\n",
      " MS                    53.000000\n",
      "Dartmouth              51.500000\n",
      "Vernon                 48.000000\n",
      "Saint-Laurent          45.214286\n",
      " KS                    44.000000\n",
      "Kitchener              40.500000\n",
      "Chatham-Kent           40.500000\n",
      "\n",
      "[71 rows x 1 columns]\n",
      "python_yn\n",
      "           average_salary\n",
      "python_yn                \n",
      "1               99.335141\n",
      "0               79.312183\n",
      "r_studio_yn\n",
      "             average_salary\n",
      "r_studio_yn                \n",
      "0                 93.459604\n",
      "1                 54.250000\n",
      "sql_yn\n",
      "        average_salary\n",
      "sql_yn                \n",
      "1            98.026239\n",
      "0            88.238095\n",
      "excel_yn\n",
      "          average_salary\n",
      "excel_yn                \n",
      "0              97.768212\n",
      "1              89.584270\n",
      "bigquery_yn\n",
      "             average_salary\n",
      "bigquery_yn                \n",
      "1                115.970588\n",
      "0                 92.740250\n",
      "spark_yn\n",
      "          average_salary\n",
      "spark_yn                \n",
      "1             101.186047\n",
      "0              90.563786\n",
      "cloud_yn\n",
      "          average_salary\n",
      "cloud_yn                \n",
      "1              99.616505\n",
      "0              90.480088\n",
      "average_salary\n"
     ]
    },
    {
     "ename": "ValueError",
     "evalue": "Grouper for 'average_salary' not 1-dimensional",
     "output_type": "error",
     "traceback": [
      "\u001b[1;31m---------------------------------------------------------------------------\u001b[0m",
      "\u001b[1;31mValueError\u001b[0m                                Traceback (most recent call last)",
      "\u001b[1;32m<ipython-input-53-3588bf134bf3>\u001b[0m in \u001b[0;36m<module>\u001b[1;34m\u001b[0m\n\u001b[0;32m      1\u001b[0m \u001b[1;32mfor\u001b[0m \u001b[0mi\u001b[0m \u001b[1;32min\u001b[0m \u001b[0mdf_pivots\u001b[0m\u001b[1;33m.\u001b[0m\u001b[0mcolumns\u001b[0m\u001b[1;33m:\u001b[0m\u001b[1;33m\u001b[0m\u001b[1;33m\u001b[0m\u001b[0m\n\u001b[0;32m      2\u001b[0m     \u001b[0mprint\u001b[0m\u001b[1;33m(\u001b[0m\u001b[0mi\u001b[0m\u001b[1;33m)\u001b[0m\u001b[1;33m\u001b[0m\u001b[1;33m\u001b[0m\u001b[0m\n\u001b[1;32m----> 3\u001b[1;33m     \u001b[0mprint\u001b[0m\u001b[1;33m(\u001b[0m\u001b[0mpd\u001b[0m\u001b[1;33m.\u001b[0m\u001b[0mpivot_table\u001b[0m\u001b[1;33m(\u001b[0m\u001b[0mdf_pivots\u001b[0m\u001b[1;33m,\u001b[0m \u001b[0mindex\u001b[0m \u001b[1;33m=\u001b[0m \u001b[0mi\u001b[0m\u001b[1;33m,\u001b[0m \u001b[0mvalues\u001b[0m \u001b[1;33m=\u001b[0m \u001b[1;34m'average_salary'\u001b[0m\u001b[1;33m)\u001b[0m\u001b[1;33m.\u001b[0m\u001b[0msort_values\u001b[0m\u001b[1;33m(\u001b[0m\u001b[1;34m'average_salary'\u001b[0m\u001b[1;33m,\u001b[0m \u001b[0mascending\u001b[0m \u001b[1;33m=\u001b[0m \u001b[1;32mFalse\u001b[0m\u001b[1;33m)\u001b[0m\u001b[1;33m)\u001b[0m\u001b[1;33m\u001b[0m\u001b[1;33m\u001b[0m\u001b[0m\n\u001b[0m",
      "\u001b[1;32mD:\\anaconda\\lib\\site-packages\\pandas\\core\\reshape\\pivot.py\u001b[0m in \u001b[0;36mpivot_table\u001b[1;34m(data, values, index, columns, aggfunc, fill_value, margins, dropna, margins_name)\u001b[0m\n\u001b[0;32m     79\u001b[0m         \u001b[0mvalues\u001b[0m \u001b[1;33m=\u001b[0m \u001b[0mlist\u001b[0m\u001b[1;33m(\u001b[0m\u001b[0mvalues\u001b[0m\u001b[1;33m)\u001b[0m\u001b[1;33m\u001b[0m\u001b[1;33m\u001b[0m\u001b[0m\n\u001b[0;32m     80\u001b[0m \u001b[1;33m\u001b[0m\u001b[0m\n\u001b[1;32m---> 81\u001b[1;33m     \u001b[0mgrouped\u001b[0m \u001b[1;33m=\u001b[0m \u001b[0mdata\u001b[0m\u001b[1;33m.\u001b[0m\u001b[0mgroupby\u001b[0m\u001b[1;33m(\u001b[0m\u001b[0mkeys\u001b[0m\u001b[1;33m,\u001b[0m \u001b[0mobserved\u001b[0m\u001b[1;33m=\u001b[0m\u001b[1;32mFalse\u001b[0m\u001b[1;33m)\u001b[0m\u001b[1;33m\u001b[0m\u001b[1;33m\u001b[0m\u001b[0m\n\u001b[0m\u001b[0;32m     82\u001b[0m     \u001b[0magged\u001b[0m \u001b[1;33m=\u001b[0m \u001b[0mgrouped\u001b[0m\u001b[1;33m.\u001b[0m\u001b[0magg\u001b[0m\u001b[1;33m(\u001b[0m\u001b[0maggfunc\u001b[0m\u001b[1;33m)\u001b[0m\u001b[1;33m\u001b[0m\u001b[1;33m\u001b[0m\u001b[0m\n\u001b[0;32m     83\u001b[0m     \u001b[1;32mif\u001b[0m \u001b[0mdropna\u001b[0m \u001b[1;32mand\u001b[0m \u001b[0misinstance\u001b[0m\u001b[1;33m(\u001b[0m\u001b[0magged\u001b[0m\u001b[1;33m,\u001b[0m \u001b[0mABCDataFrame\u001b[0m\u001b[1;33m)\u001b[0m \u001b[1;32mand\u001b[0m \u001b[0mlen\u001b[0m\u001b[1;33m(\u001b[0m\u001b[0magged\u001b[0m\u001b[1;33m.\u001b[0m\u001b[0mcolumns\u001b[0m\u001b[1;33m)\u001b[0m\u001b[1;33m:\u001b[0m\u001b[1;33m\u001b[0m\u001b[1;33m\u001b[0m\u001b[0m\n",
      "\u001b[1;32mD:\\anaconda\\lib\\site-packages\\pandas\\core\\generic.py\u001b[0m in \u001b[0;36mgroupby\u001b[1;34m(self, by, axis, level, as_index, sort, group_keys, squeeze, observed, **kwargs)\u001b[0m\n\u001b[0;32m   7630\u001b[0m         return groupby(self, by=by, axis=axis, level=level, as_index=as_index,\n\u001b[0;32m   7631\u001b[0m                        \u001b[0msort\u001b[0m\u001b[1;33m=\u001b[0m\u001b[0msort\u001b[0m\u001b[1;33m,\u001b[0m \u001b[0mgroup_keys\u001b[0m\u001b[1;33m=\u001b[0m\u001b[0mgroup_keys\u001b[0m\u001b[1;33m,\u001b[0m \u001b[0msqueeze\u001b[0m\u001b[1;33m=\u001b[0m\u001b[0msqueeze\u001b[0m\u001b[1;33m,\u001b[0m\u001b[1;33m\u001b[0m\u001b[1;33m\u001b[0m\u001b[0m\n\u001b[1;32m-> 7632\u001b[1;33m                        observed=observed, **kwargs)\n\u001b[0m\u001b[0;32m   7633\u001b[0m \u001b[1;33m\u001b[0m\u001b[0m\n\u001b[0;32m   7634\u001b[0m     def asfreq(self, freq, method=None, how=None, normalize=False,\n",
      "\u001b[1;32mD:\\anaconda\\lib\\site-packages\\pandas\\core\\groupby\\groupby.py\u001b[0m in \u001b[0;36mgroupby\u001b[1;34m(obj, by, **kwds)\u001b[0m\n\u001b[0;32m   2108\u001b[0m         \u001b[1;32mraise\u001b[0m \u001b[0mTypeError\u001b[0m\u001b[1;33m(\u001b[0m\u001b[1;34m'invalid type: {}'\u001b[0m\u001b[1;33m.\u001b[0m\u001b[0mformat\u001b[0m\u001b[1;33m(\u001b[0m\u001b[0mobj\u001b[0m\u001b[1;33m)\u001b[0m\u001b[1;33m)\u001b[0m\u001b[1;33m\u001b[0m\u001b[1;33m\u001b[0m\u001b[0m\n\u001b[0;32m   2109\u001b[0m \u001b[1;33m\u001b[0m\u001b[0m\n\u001b[1;32m-> 2110\u001b[1;33m     \u001b[1;32mreturn\u001b[0m \u001b[0mklass\u001b[0m\u001b[1;33m(\u001b[0m\u001b[0mobj\u001b[0m\u001b[1;33m,\u001b[0m \u001b[0mby\u001b[0m\u001b[1;33m,\u001b[0m \u001b[1;33m**\u001b[0m\u001b[0mkwds\u001b[0m\u001b[1;33m)\u001b[0m\u001b[1;33m\u001b[0m\u001b[1;33m\u001b[0m\u001b[0m\n\u001b[0m",
      "\u001b[1;32mD:\\anaconda\\lib\\site-packages\\pandas\\core\\groupby\\groupby.py\u001b[0m in \u001b[0;36m__init__\u001b[1;34m(self, obj, keys, axis, level, grouper, exclusions, selection, as_index, sort, group_keys, squeeze, observed, **kwargs)\u001b[0m\n\u001b[0;32m    358\u001b[0m                                                     \u001b[0msort\u001b[0m\u001b[1;33m=\u001b[0m\u001b[0msort\u001b[0m\u001b[1;33m,\u001b[0m\u001b[1;33m\u001b[0m\u001b[1;33m\u001b[0m\u001b[0m\n\u001b[0;32m    359\u001b[0m                                                     \u001b[0mobserved\u001b[0m\u001b[1;33m=\u001b[0m\u001b[0mobserved\u001b[0m\u001b[1;33m,\u001b[0m\u001b[1;33m\u001b[0m\u001b[1;33m\u001b[0m\u001b[0m\n\u001b[1;32m--> 360\u001b[1;33m                                                     mutated=self.mutated)\n\u001b[0m\u001b[0;32m    361\u001b[0m \u001b[1;33m\u001b[0m\u001b[0m\n\u001b[0;32m    362\u001b[0m         \u001b[0mself\u001b[0m\u001b[1;33m.\u001b[0m\u001b[0mobj\u001b[0m \u001b[1;33m=\u001b[0m \u001b[0mobj\u001b[0m\u001b[1;33m\u001b[0m\u001b[1;33m\u001b[0m\u001b[0m\n",
      "\u001b[1;32mD:\\anaconda\\lib\\site-packages\\pandas\\core\\groupby\\grouper.py\u001b[0m in \u001b[0;36m_get_grouper\u001b[1;34m(obj, key, axis, level, sort, observed, mutated, validate)\u001b[0m\n\u001b[0;32m    600\u001b[0m                          \u001b[0mobserved\u001b[0m\u001b[1;33m=\u001b[0m\u001b[0mobserved\u001b[0m\u001b[1;33m,\u001b[0m\u001b[1;33m\u001b[0m\u001b[1;33m\u001b[0m\u001b[0m\n\u001b[0;32m    601\u001b[0m                          in_axis=in_axis)\n\u001b[1;32m--> 602\u001b[1;33m                 if not isinstance(gpr, Grouping) else gpr)\n\u001b[0m\u001b[0;32m    603\u001b[0m \u001b[1;33m\u001b[0m\u001b[0m\n\u001b[0;32m    604\u001b[0m         \u001b[0mgroupings\u001b[0m\u001b[1;33m.\u001b[0m\u001b[0mappend\u001b[0m\u001b[1;33m(\u001b[0m\u001b[0mping\u001b[0m\u001b[1;33m)\u001b[0m\u001b[1;33m\u001b[0m\u001b[1;33m\u001b[0m\u001b[0m\n",
      "\u001b[1;32mD:\\anaconda\\lib\\site-packages\\pandas\\core\\groupby\\grouper.py\u001b[0m in \u001b[0;36m__init__\u001b[1;34m(self, index, grouper, obj, name, level, sort, observed, in_axis)\u001b[0m\n\u001b[0;32m    320\u001b[0m                     \u001b[0mt\u001b[0m \u001b[1;33m=\u001b[0m \u001b[0mself\u001b[0m\u001b[1;33m.\u001b[0m\u001b[0mname\u001b[0m \u001b[1;32mor\u001b[0m \u001b[0mstr\u001b[0m\u001b[1;33m(\u001b[0m\u001b[0mtype\u001b[0m\u001b[1;33m(\u001b[0m\u001b[0mself\u001b[0m\u001b[1;33m.\u001b[0m\u001b[0mgrouper\u001b[0m\u001b[1;33m)\u001b[0m\u001b[1;33m)\u001b[0m\u001b[1;33m\u001b[0m\u001b[1;33m\u001b[0m\u001b[0m\n\u001b[0;32m    321\u001b[0m                     raise ValueError(\n\u001b[1;32m--> 322\u001b[1;33m                         \"Grouper for '{}' not 1-dimensional\".format(t))\n\u001b[0m\u001b[0;32m    323\u001b[0m                 \u001b[0mself\u001b[0m\u001b[1;33m.\u001b[0m\u001b[0mgrouper\u001b[0m \u001b[1;33m=\u001b[0m \u001b[0mself\u001b[0m\u001b[1;33m.\u001b[0m\u001b[0mindex\u001b[0m\u001b[1;33m.\u001b[0m\u001b[0mmap\u001b[0m\u001b[1;33m(\u001b[0m\u001b[0mself\u001b[0m\u001b[1;33m.\u001b[0m\u001b[0mgrouper\u001b[0m\u001b[1;33m)\u001b[0m\u001b[1;33m\u001b[0m\u001b[1;33m\u001b[0m\u001b[0m\n\u001b[0;32m    324\u001b[0m                 if not (hasattr(self.grouper, \"__len__\") and\n",
      "\u001b[1;31mValueError\u001b[0m: Grouper for 'average_salary' not 1-dimensional"
     ]
    }
   ],
   "source": [
    "for i in df_pivots.columns:\n",
    "    print(i)\n",
    "    print(pd.pivot_table(df_pivots, index = i, values = 'average_salary').sort_values('average_salary', ascending = False))"
   ]
  },
  {
   "cell_type": "code",
   "execution_count": 55,
   "metadata": {},
   "outputs": [
    {
     "data": {
      "text/html": [
       "<div>\n",
       "<style scoped>\n",
       "    .dataframe tbody tr th:only-of-type {\n",
       "        vertical-align: middle;\n",
       "    }\n",
       "\n",
       "    .dataframe tbody tr th {\n",
       "        vertical-align: top;\n",
       "    }\n",
       "\n",
       "    .dataframe thead th {\n",
       "        text-align: right;\n",
       "    }\n",
       "</style>\n",
       "<table border=\"1\" class=\"dataframe\">\n",
       "  <thead>\n",
       "    <tr style=\"text-align: right;\">\n",
       "      <th>python_yn</th>\n",
       "      <th>0</th>\n",
       "      <th>1</th>\n",
       "    </tr>\n",
       "    <tr>\n",
       "      <th>Revenue</th>\n",
       "      <th></th>\n",
       "      <th></th>\n",
       "    </tr>\n",
       "  </thead>\n",
       "  <tbody>\n",
       "    <tr>\n",
       "      <th>$1 to $2 billion (USD)</th>\n",
       "      <td>13</td>\n",
       "      <td>19</td>\n",
       "    </tr>\n",
       "    <tr>\n",
       "      <th>$1 to $5 million (USD)</th>\n",
       "      <td>3</td>\n",
       "      <td>9</td>\n",
       "    </tr>\n",
       "    <tr>\n",
       "      <th>$10 to $25 million (USD)</th>\n",
       "      <td>6</td>\n",
       "      <td>8</td>\n",
       "    </tr>\n",
       "    <tr>\n",
       "      <th>$10+ billion (USD)</th>\n",
       "      <td>35</td>\n",
       "      <td>68</td>\n",
       "    </tr>\n",
       "    <tr>\n",
       "      <th>$100 to $500 million (USD)</th>\n",
       "      <td>16</td>\n",
       "      <td>63</td>\n",
       "    </tr>\n",
       "    <tr>\n",
       "      <th>$2 to $5 billion (USD)</th>\n",
       "      <td>15</td>\n",
       "      <td>14</td>\n",
       "    </tr>\n",
       "    <tr>\n",
       "      <th>$25 to $50 million (USD)</th>\n",
       "      <td>9</td>\n",
       "      <td>23</td>\n",
       "    </tr>\n",
       "    <tr>\n",
       "      <th>$5 to $10 billion (USD)</th>\n",
       "      <td>5</td>\n",
       "      <td>24</td>\n",
       "    </tr>\n",
       "    <tr>\n",
       "      <th>$5 to $10 million (USD)</th>\n",
       "      <td>6</td>\n",
       "      <td>6</td>\n",
       "    </tr>\n",
       "    <tr>\n",
       "      <th>$50 to $100 million (USD)</th>\n",
       "      <td>12</td>\n",
       "      <td>24</td>\n",
       "    </tr>\n",
       "    <tr>\n",
       "      <th>$500 million to $1 billion (USD)</th>\n",
       "      <td>8</td>\n",
       "      <td>21</td>\n",
       "    </tr>\n",
       "    <tr>\n",
       "      <th>-1</th>\n",
       "      <td>12</td>\n",
       "      <td>19</td>\n",
       "    </tr>\n",
       "    <tr>\n",
       "      <th>Less than $1 million (USD)</th>\n",
       "      <td>19</td>\n",
       "      <td>26</td>\n",
       "    </tr>\n",
       "    <tr>\n",
       "      <th>Unknown / Non-Applicable</th>\n",
       "      <td>38</td>\n",
       "      <td>137</td>\n",
       "    </tr>\n",
       "  </tbody>\n",
       "</table>\n",
       "</div>"
      ],
      "text/plain": [
       "python_yn                          0    1\n",
       "Revenue                                  \n",
       "$1 to $2 billion (USD)            13   19\n",
       "$1 to $5 million (USD)             3    9\n",
       "$10 to $25 million (USD)           6    8\n",
       "$10+ billion (USD)                35   68\n",
       "$100 to $500 million (USD)        16   63\n",
       "$2 to $5 billion (USD)            15   14\n",
       "$25 to $50 million (USD)           9   23\n",
       "$5 to $10 billion (USD)            5   24\n",
       "$5 to $10 million (USD)            6    6\n",
       "$50 to $100 million (USD)         12   24\n",
       "$500 million to $1 billion (USD)   8   21\n",
       "-1                                12   19\n",
       "Less than $1 million (USD)        19   26\n",
       "Unknown / Non-Applicable          38  137"
      ]
     },
     "execution_count": 55,
     "metadata": {},
     "output_type": "execute_result"
    }
   ],
   "source": [
    "pd.pivot_table(df_pivots, index = 'Revenue', columns = 'python_yn', values = 'average_salary', aggfunc = 'count')"
   ]
  },
  {
   "cell_type": "markdown",
   "metadata": {},
   "source": [
    "##### Word Cloud with the job desciption\n"
   ]
  },
  {
   "cell_type": "code",
   "execution_count": 58,
   "metadata": {},
   "outputs": [],
   "source": [
    "#conda install -c conda-forge wordcloud=1.6.0 \n",
    "\n",
    "from wordcloud import WordCloud, ImageColorGenerator, STOPWORDS\n",
    "from nltk.corpus import stopwords\n",
    "from nltk.tokenize import word_tokenize"
   ]
  },
  {
   "cell_type": "code",
   "execution_count": 61,
   "metadata": {},
   "outputs": [
    {
     "ename": "NameError",
     "evalue": "name 'image_colors' is not defined",
     "output_type": "error",
     "traceback": [
      "\u001b[1;31m---------------------------------------------------------------------------\u001b[0m",
      "\u001b[1;31mNameError\u001b[0m                                 Traceback (most recent call last)",
      "\u001b[1;32m<ipython-input-61-ca1d3ac59ff2>\u001b[0m in \u001b[0;36m<module>\u001b[1;34m\u001b[0m\n\u001b[0;32m     19\u001b[0m \u001b[1;33m\u001b[0m\u001b[0m\n\u001b[0;32m     20\u001b[0m \u001b[0mplt\u001b[0m\u001b[1;33m.\u001b[0m\u001b[0mfigure\u001b[0m\u001b[1;33m(\u001b[0m\u001b[0mfigsize\u001b[0m \u001b[1;33m=\u001b[0m \u001b[1;33m(\u001b[0m\u001b[1;36m10\u001b[0m\u001b[1;33m,\u001b[0m\u001b[1;36m10\u001b[0m\u001b[1;33m)\u001b[0m\u001b[1;33m)\u001b[0m\u001b[1;33m\u001b[0m\u001b[1;33m\u001b[0m\u001b[0m\n\u001b[1;32m---> 21\u001b[1;33m \u001b[0mplt\u001b[0m\u001b[1;33m.\u001b[0m\u001b[0mimshow\u001b[0m\u001b[1;33m(\u001b[0m\u001b[0mwc\u001b[0m\u001b[1;33m.\u001b[0m\u001b[0mrecolor\u001b[0m\u001b[1;33m(\u001b[0m\u001b[0mcolor_func\u001b[0m \u001b[1;33m=\u001b[0m \u001b[0mimage_colors\u001b[0m\u001b[1;33m)\u001b[0m\u001b[1;33m,\u001b[0m \u001b[0minterpolation\u001b[0m \u001b[1;33m=\u001b[0m \u001b[1;34m'bilinear'\u001b[0m\u001b[1;33m)\u001b[0m\u001b[1;33m\u001b[0m\u001b[1;33m\u001b[0m\u001b[0m\n\u001b[0m\u001b[0;32m     22\u001b[0m \u001b[0mplt\u001b[0m\u001b[1;33m.\u001b[0m\u001b[0maxis\u001b[0m\u001b[1;33m(\u001b[0m\u001b[1;34m'off'\u001b[0m\u001b[1;33m)\u001b[0m\u001b[1;33m\u001b[0m\u001b[1;33m\u001b[0m\u001b[0m\n\u001b[0;32m     23\u001b[0m \u001b[0mplt\u001b[0m\u001b[1;33m.\u001b[0m\u001b[0mshow\u001b[0m\u001b[1;33m(\u001b[0m\u001b[1;33m)\u001b[0m\u001b[1;33m\u001b[0m\u001b[1;33m\u001b[0m\u001b[0m\n",
      "\u001b[1;31mNameError\u001b[0m: name 'image_colors' is not defined"
     ]
    },
    {
     "data": {
      "text/plain": [
       "<Figure size 720x720 with 0 Axes>"
      ]
     },
     "metadata": {},
     "output_type": "display_data"
    }
   ],
   "source": [
    "words = \" \".join(df['Job Description'])\n",
    "\n",
    "def punctuation_stop(text):\n",
    "    ''' remove punctuation and stop words'''\n",
    "    filtered = []\n",
    "    stop_words = set(stopwords.words('english'))\n",
    "    word_tokens = word_tokenize(text)\n",
    "    for w in word_tokens:\n",
    "        filtered.append(w.lower())\n",
    "    return filtered\n",
    "\n",
    "words_filtered = punctuation_stop(words)\n",
    "\n",
    "text = \" \".join([ele for ele in words_filtered])\n",
    "\n",
    "wc = WordCloud(background_color='white', random_state=1,\n",
    "               stopwords = STOPWORDS, max_words = 2000, width = 800, height = 1500)\n",
    "wc.generate(text)\n",
    "\n",
    "plt.figure(figsize = (10,10))\n",
    "plt.imshow(wc.recolor(color_func = image_colors), interpolation = 'bilinear')\n",
    "plt.axis('off')\n",
    "plt.show()\n"
   ]
  }
 ],
 "metadata": {
  "kernelspec": {
   "display_name": "Python 3",
   "language": "python",
   "name": "python3"
  },
  "language_info": {
   "codemirror_mode": {
    "name": "ipython",
    "version": 3
   },
   "file_extension": ".py",
   "mimetype": "text/x-python",
   "name": "python",
   "nbconvert_exporter": "python",
   "pygments_lexer": "ipython3",
   "version": "3.7.3"
  }
 },
 "nbformat": 4,
 "nbformat_minor": 2
}
